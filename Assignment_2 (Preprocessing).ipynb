{
 "cells": [
  {
   "cell_type": "code",
   "execution_count": 2,
   "id": "285b003a",
   "metadata": {},
   "outputs": [],
   "source": [
    "import pandas as pd\n",
    "import numpy as np"
   ]
  },
  {
   "cell_type": "code",
   "execution_count": 3,
   "id": "cfbb179d",
   "metadata": {},
   "outputs": [],
   "source": [
    "ENFJ = pd.read_csv('mbti_enfj.csv', encoding='utf-8')\n",
    "ENFP = pd.read_csv('mbti_enfp.csv', encoding='utf-8')\n",
    "ENTJ = pd.read_csv('mbti_entj.csv', encoding='utf-8')\n",
    "ENTP = pd.read_csv('mbti_entp.csv', encoding='utf-8')\n",
    "ESFJ = pd.read_csv('mbti_esfj.csv', encoding='utf-8')\n",
    "ESFP = pd.read_csv('mbti_esfp.csv', encoding='utf-8')\n",
    "ESTJ = pd.read_csv('mbti_estj.csv', encoding='utf-8')\n",
    "ESTP = pd.read_csv('mbti_estp.csv', encoding='utf-8')\n",
    "INFJ = pd.read_csv('mbti_infj.csv', encoding='utf-8')\n",
    "INFP = pd.read_csv('mbti_infp.csv', encoding='utf-8')\n",
    "INTJ = pd.read_csv('mbti_intj.csv', encoding='utf-8')\n",
    "INTP = pd.read_csv('mbti_intp.csv', encoding='utf-8')\n",
    "ISFJ = pd.read_csv('mbti_isfj.csv', encoding='utf-8')\n",
    "ISFP = pd.read_csv('mbti_isfp.csv', encoding='utf-8')\n",
    "ISTJ = pd.read_csv('mbti_istj.csv', encoding='utf-8')\n",
    "ISTP = pd.read_csv('mbti_istp.csv', encoding='utf-8')"
   ]
  },
  {
   "cell_type": "code",
   "execution_count": 4,
   "id": "48d6f403",
   "metadata": {},
   "outputs": [],
   "source": [
    "MBTI = {'ENFJ': ENFJ, 'ENFP': ENFP, 'ENTJ': ENFJ, 'ENTP': ENFP, 'ESFJ': ESFJ, 'ESFP': ESFP, 'ESTJ': ESTJ, 'ESTP': ESTP, 'INFJ': INFJ, 'INFP': INFP, 'INTJ': INTJ, 'INTP': INTP, 'ISFJ': ISFJ, 'ISFP': ISFP, 'ISTJ': ISTJ, 'ISTP': ISTP}\n"
   ]
  },
  {
   "cell_type": "code",
   "execution_count": 5,
   "id": "4663312a",
   "metadata": {
    "collapsed": true
   },
   "outputs": [
    {
     "name": "stdout",
     "output_type": "stream",
     "text": [
      "ENFJ\n",
      "ENFP\n",
      "ENTJ\n",
      "해당 열 없음\n",
      "ENTP\n",
      "해당 열 없음\n",
      "ESFJ\n",
      "ESFP\n",
      "ESTJ\n",
      "ESTP\n",
      "INFJ\n",
      "INFP\n",
      "INTJ\n",
      "INTP\n",
      "ISFJ\n",
      "ISFP\n",
      "ISTJ\n",
      "ISTP\n"
     ]
    }
   ],
   "source": [
    "for i in MBTI:\n",
    "    print(i)\n",
    "    try:\n",
    "        MBTI.get(i).drop(['Unnamed: 0'], axis=1, inplace=True) # 크롤링 데이터 index 제거\n",
    "    except:\n",
    "        print(\"해당 열 없음\")\n",
    "    MBTI.get(i).dropna(axis=0, inplace=True) # nan 값 있는 행 제거\n",
    "    MBTI.get(i)['content'] = MBTI.get(i)['content'].str.replace('\\n', ' ') # 줄바꿈 제거\n",
    "    MBTI.get(i).reset_index(drop=True, inplace=True) # 인덱스 초기화"
   ]
  },
  {
   "cell_type": "markdown",
   "id": "543d8687",
   "metadata": {},
   "source": [
    "* * *\n",
    "# Text Preprocessing"
   ]
  },
  {
   "cell_type": "code",
   "execution_count": 7,
   "id": "0b9caaf2",
   "metadata": {},
   "outputs": [],
   "source": [
    "import pykospacing\n",
    "import kss\n",
    "import copy\n",
    "import re\n",
    "from nltk.tokenize import TreebankWordTokenizer\n",
    "from konlpy.tag import Komoran\n",
    "from tqdm import tqdm\n",
    "import time\n",
    "import emoji\n",
    "import json\n",
    "import requests\n",
    "import warnings\n",
    "\n",
    "warnings.filterwarnings('ignore')\n",
    "tokenizer = TreebankWordTokenizer()\n",
    "komoran = Komoran()"
   ]
  },
  {
   "cell_type": "code",
   "execution_count": 8,
   "id": "2ef62d27",
   "metadata": {},
   "outputs": [],
   "source": [
    "from hanspell import spell_checker"
   ]
  },
  {
   "cell_type": "code",
   "execution_count": 9,
   "id": "60e64755",
   "metadata": {},
   "outputs": [],
   "source": [
    "with open('./stopwords.txt', 'r', encoding='utf-8') as f:\n",
    "    stopwords = f.readlines()\n",
    "stopwords = [x.replace('\\n','') for x in stopwords]"
   ]
  },
  {
   "cell_type": "code",
   "execution_count": 10,
   "id": "65ef12ca",
   "metadata": {},
   "outputs": [],
   "source": [
    "def lemmatize(tag): # Lemmatize 수행\n",
    "    if tag[1] == 'VA' or tag[1] == 'VV':\n",
    "        return tag[0] + '다'\n",
    "    else:\n",
    "        return tag[0]"
   ]
  },
  {
   "cell_type": "code",
   "execution_count": 11,
   "id": "293f4f4e",
   "metadata": {},
   "outputs": [],
   "source": [
    "def remove_emoji(text): # 이모지 제거 후 공백으로 대체.\n",
    "    return emoji.get_emoji_regexp().sub(u'', text)"
   ]
  },
  {
   "cell_type": "code",
   "execution_count": 12,
   "id": "91d18385",
   "metadata": {},
   "outputs": [],
   "source": [
    "def hs_additional(text): # 500자 이상의 글에 대해서 맞춤법 검사기 돌리도록 하는 코드\n",
    "    checked_text = ''\n",
    "    for i in range(len(text)//500+1):\n",
    "        try:\n",
    "            paragraph = text[500*i:500*i+499]\n",
    "            checked_text += spell_checker.check(paragraph).checked\n",
    "        except:\n",
    "            paragraph = text[500*i:]\n",
    "            checked_text += spell_checker.check(paragraph).checked\n",
    "    return checked_text"
   ]
  },
  {
   "cell_type": "code",
   "execution_count": 13,
   "id": "4d5618aa",
   "metadata": {},
   "outputs": [],
   "source": [
    "def preprocess_korean_ver2(text):\n",
    "    try:\n",
    "        result = []\n",
    "        document = copy.copy(text)\n",
    "\n",
    "        # 이모지와 엔터 제거\n",
    "        document = document.replace('\\n', '')\n",
    "        document = remove_emoji(document)\n",
    "\n",
    "        # 띄어쓰기 교정 시작\n",
    "        spacer = pykospacing.Spacing()\n",
    "        document = spacer(document)\n",
    "\n",
    "        # 맞춤법 교정\n",
    "        document = hs_additional(document)\n",
    "\n",
    "        # 단어 토큰화 & pos tag\n",
    "        tokens_and_pos = komoran.pos(document)\n",
    "        p = re.compile('[^ㄱ-ㅎㅏ-ㅣ가-힣0-9A-Za-z ]')\n",
    "\n",
    "        for token in tokens_and_pos:\n",
    "            word = p.sub('', token[0])\n",
    "\n",
    "            if word not in stopwords:\n",
    "                if token[1] in ['EF','EP','EC','ETM','ETN','JX','JK','SF','SH','SP','SS','SW','JC','JKB','JKC','JKG','JKO','JKQ','JKS','JKV','JX','NA']:\n",
    "                    continue\n",
    "                else:\n",
    "                    if p.sub('', lemmatize(token)) == '':\n",
    "                        continue\n",
    "                    else:\n",
    "                        result.append(p.sub('', lemmatize(token)))\n",
    "\n",
    "        result = ' '.join(result)\n",
    "\n",
    "        return result\n",
    "    \n",
    "    except:\n",
    "        print(\"오류!\")"
   ]
  },
  {
   "cell_type": "markdown",
   "id": "692665e1",
   "metadata": {},
   "source": [
    "***\n",
    "# MBTI별로 함수 적용"
   ]
  },
  {
   "cell_type": "code",
   "execution_count": 14,
   "id": "dcafd532",
   "metadata": {},
   "outputs": [],
   "source": [
    "def preprocess_and_update_progress(row): # 진행 상황 확인하는 tqdm 패키지 활용\n",
    "    after = preprocess_korean_ver2(row)\n",
    "    progress_bar.update(1)\n",
    "    return after"
   ]
  },
  {
   "cell_type": "markdown",
   "id": "4f2e86ac",
   "metadata": {},
   "source": [
    "## ENFJ"
   ]
  },
  {
   "cell_type": "code",
   "execution_count": 14,
   "id": "5c1821f0",
   "metadata": {
    "collapsed": true
   },
   "outputs": [
    {
     "name": "stderr",
     "output_type": "stream",
     "text": [
      "Text Preprocessing:   2%|@                                                             | 15/859 [00:34<28:06,  2.00s/it]"
     ]
    },
    {
     "name": "stdout",
     "output_type": "stream",
     "text": [
      "오류!\n"
     ]
    },
    {
     "name": "stderr",
     "output_type": "stream",
     "text": [
      "Text Preprocessing:   3%|@@                                                            | 28/859 [01:00<24:32,  1.77s/it]"
     ]
    },
    {
     "name": "stdout",
     "output_type": "stream",
     "text": [
      "오류!\n"
     ]
    },
    {
     "name": "stderr",
     "output_type": "stream",
     "text": [
      "Text Preprocessing:  31%|@@@@@@@@@@@@@@@@@@                                           | 262/859 [07:17<16:00,  1.61s/it]"
     ]
    },
    {
     "name": "stdout",
     "output_type": "stream",
     "text": [
      "오류!\n"
     ]
    },
    {
     "name": "stderr",
     "output_type": "stream",
     "text": [
      "Text Preprocessing:  40%|@@@@@@@@@@@@@@@@@@@@@@@@                                     | 341/859 [09:27<09:14,  1.07s/it]"
     ]
    },
    {
     "name": "stdout",
     "output_type": "stream",
     "text": [
      "오류!\n"
     ]
    },
    {
     "name": "stderr",
     "output_type": "stream",
     "text": [
      "Text Preprocessing:  45%|@@@@@@@@@@@@@@@@@@@@@@@@@@@                                  | 389/859 [10:53<10:20,  1.32s/it]"
     ]
    },
    {
     "name": "stdout",
     "output_type": "stream",
     "text": [
      "오류!\n"
     ]
    },
    {
     "name": "stderr",
     "output_type": "stream",
     "text": [
      "Text Preprocessing:  51%|@@@@@@@@@@@@@@@@@@@@@@@@@@@@@@                               | 436/859 [12:16<21:25,  3.04s/it]"
     ]
    },
    {
     "name": "stdout",
     "output_type": "stream",
     "text": [
      "오류!\n"
     ]
    },
    {
     "name": "stderr",
     "output_type": "stream",
     "text": [
      "Text Preprocessing:  55%|@@@@@@@@@@@@@@@@@@@@@@@@@@@@@@@@@                            | 469/859 [13:12<08:52,  1.37s/it]"
     ]
    },
    {
     "name": "stdout",
     "output_type": "stream",
     "text": [
      "오류!\n"
     ]
    },
    {
     "name": "stderr",
     "output_type": "stream",
     "text": [
      "Text Preprocessing:  67%|@@@@@@@@@@@@@@@@@@@@@@@@@@@@@@@@@@@@@@@@                     | 574/859 [16:10<10:30,  2.21s/it]"
     ]
    },
    {
     "name": "stdout",
     "output_type": "stream",
     "text": [
      "오류!\n"
     ]
    },
    {
     "name": "stderr",
     "output_type": "stream",
     "text": [
      "Text Preprocessing:  69%|@@@@@@@@@@@@@@@@@@@@@@@@@@@@@@@@@@@@@@@@@@                   | 597/859 [16:50<09:26,  2.16s/it]"
     ]
    },
    {
     "name": "stdout",
     "output_type": "stream",
     "text": [
      "오류!\n"
     ]
    },
    {
     "name": "stderr",
     "output_type": "stream",
     "text": [
      "Text Preprocessing:  81%|@@@@@@@@@@@@@@@@@@@@@@@@@@@@@@@@@@@@@@@@@@@@@@@@@            | 693/859 [20:12<04:58,  1.80s/it]"
     ]
    },
    {
     "name": "stdout",
     "output_type": "stream",
     "text": [
      "오류!\n"
     ]
    },
    {
     "name": "stderr",
     "output_type": "stream",
     "text": [
      "Text Preprocessing:  85%|@@@@@@@@@@@@@@@@@@@@@@@@@@@@@@@@@@@@@@@@@@@@@@@@@@@          | 732/859 [21:32<02:42,  1.28s/it]"
     ]
    },
    {
     "name": "stdout",
     "output_type": "stream",
     "text": [
      "오류!\n"
     ]
    },
    {
     "name": "stderr",
     "output_type": "stream",
     "text": [
      "Text Preprocessing:  86%|@@@@@@@@@@@@@@@@@@@@@@@@@@@@@@@@@@@@@@@@@@@@@@@@@@@@         | 742/859 [21:49<01:51,  1.05it/s]"
     ]
    },
    {
     "name": "stdout",
     "output_type": "stream",
     "text": [
      "오류!\n"
     ]
    },
    {
     "name": "stderr",
     "output_type": "stream",
     "text": [
      "Text Preprocessing:  88%|@@@@@@@@@@@@@@@@@@@@@@@@@@@@@@@@@@@@@@@@@@@@@@@@@@@@@        | 753/859 [22:14<03:04,  1.74s/it]"
     ]
    },
    {
     "name": "stdout",
     "output_type": "stream",
     "text": [
      "오류!\n"
     ]
    },
    {
     "name": "stderr",
     "output_type": "stream",
     "text": [
      "Text Preprocessing: 100%|@@@@@@@@@@@@@@@@@@@@@@@@@@@@@@@@@@@@@@@@@@@@@@@@@@@@@@@@@@@@@| 859/859 [26:19<00:00,  1.84s/it]\n"
     ]
    }
   ],
   "source": [
    "progress_bar = tqdm(total=len(MBTI['ENFJ']['content']),\n",
    "                   desc= 'Text Preprocessing',\n",
    "                   ncols=120, ascii=\" @\")\n",
    "\n",
    "MBTI['ENFJ']['pp_content'] = MBTI['ENFJ']['content'].apply(preprocess_and_update_progress)\n",
    "\n",
    "progress_bar.close()"
   ]
  },
  {
   "cell_type": "code",
   "execution_count": 15,
   "id": "80bf60e0",
   "metadata": {},
   "outputs": [],
   "source": [
    "MBTI['ENFJ'].to_csv('MBTI_ENFJ_after.csv', encoding='utf-8', index=False)"
   ]
  },
  {
   "cell_type": "markdown",
   "id": "07ba83de",
   "metadata": {},
   "source": [
    "## ENFP"
   ]
  },
  {
   "cell_type": "code",
   "execution_count": 21,
   "id": "b33337da",
   "metadata": {
    "collapsed": true
   },
   "outputs": [
    {
     "name": "stderr",
     "output_type": "stream",
     "text": [
      "Text Preprocessing:   0%|\u001b[34m                                                               \u001b[0m| 4/865 [00:08<27:18,  1.90s/it]\u001b[0m"
     ]
    },
    {
     "name": "stdout",
     "output_type": "stream",
     "text": [
      "오류!\n"
     ]
    },
    {
     "name": "stderr",
     "output_type": "stream",
     "text": [
      "Text Preprocessing:  15%|\u001b[34m●●●●●●●●                                                     \u001b[0m| 126/865 [03:52<18:59,  1.54s/it]\u001b[0m"
     ]
    },
    {
     "name": "stdout",
     "output_type": "stream",
     "text": [
      "오류!\n"
     ]
    },
    {
     "name": "stderr",
     "output_type": "stream",
     "text": [
      "Text Preprocessing:  18%|\u001b[34m●●●●●●●●●●                                                   \u001b[0m| 152/865 [04:36<24:24,  2.05s/it]\u001b[0m"
     ]
    },
    {
     "name": "stdout",
     "output_type": "stream",
     "text": [
      "오류!\n"
     ]
    },
    {
     "name": "stderr",
     "output_type": "stream",
     "text": [
      "Text Preprocessing:  57%|\u001b[34m●●●●●●●●●●●●●●●●●●●●●●●●●●●●●●●●●●                           \u001b[0m| 490/865 [13:45<12:11,  1.95s/it]\u001b[0m"
     ]
    },
    {
     "name": "stdout",
     "output_type": "stream",
     "text": [
      "오류!\n"
     ]
    },
    {
     "name": "stderr",
     "output_type": "stream",
     "text": [
      "Text Preprocessing:  67%|\u001b[34m●●●●●●●●●●●●●●●●●●●●●●●●●●●●●●●●●●●●●●●●                     \u001b[0m| 580/865 [16:22<05:50,  1.23s/it]\u001b[0m"
     ]
    },
    {
     "name": "stdout",
     "output_type": "stream",
     "text": [
      "오류!\n"
     ]
    },
    {
     "name": "stderr",
     "output_type": "stream",
     "text": [
      "Text Preprocessing:  78%|\u001b[34m●●●●●●●●●●●●●●●●●●●●●●●●●●●●●●●●●●●●●●●●●●●●●●●              \u001b[0m| 676/865 [19:23<05:08,  1.63s/it]\u001b[0m"
     ]
    },
    {
     "name": "stdout",
     "output_type": "stream",
     "text": [
      "오류!\n"
     ]
    },
    {
     "name": "stderr",
     "output_type": "stream",
     "text": [
      "Text Preprocessing:  86%|\u001b[34m●●●●●●●●●●●●●●●●●●●●●●●●●●●●●●●●●●●●●●●●●●●●●●●●●●●●         \u001b[0m| 741/865 [21:18<02:20,  1.13s/it]\u001b[0m"
     ]
    },
    {
     "name": "stdout",
     "output_type": "stream",
     "text": [
      "오류!\n"
     ]
    },
    {
     "name": "stderr",
     "output_type": "stream",
     "text": [
      "Text Preprocessing:  97%|\u001b[34m●●●●●●●●●●●●●●●●●●●●●●●●●●●●●●●●●●●●●●●●●●●●●●●●●●●●●●●●●●●  \u001b[0m| 842/865 [24:07<00:31,  1.39s/it]\u001b[0m"
     ]
    },
    {
     "name": "stdout",
     "output_type": "stream",
     "text": [
      "오류!\n"
     ]
    },
    {
     "name": "stderr",
     "output_type": "stream",
     "text": [
      "Text Preprocessing: 100%|\u001b[34m●●●●●●●●●●●●●●●●●●●●●●●●●●●●●●●●●●●●●●●●●●●●●●●●●●●●●●●●●●●●●\u001b[0m| 865/865 [24:42<00:00,  1.71s/it]\u001b[0m\n"
     ]
    }
   ],
   "source": [
    "progress_bar = tqdm(total=len(MBTI['ENFP']['content']),\n",
    "                   desc= 'Text Preprocessing',\n",
    "                   ncols=120, ascii=\" ●\", colour='blue')\n",
    "\n",
    "MBTI['ENFP']['pp_content'] = MBTI['ENFP']['content'].apply(preprocess_and_update_progress)\n",
    "\n",
    "progress_bar.close()"
   ]
  },
  {
   "cell_type": "code",
   "execution_count": 22,
   "id": "2e8e08fe",
   "metadata": {},
   "outputs": [],
   "source": [
    "MBTI['ENFP'].to_csv('MBTI_ENFP_after.csv', encoding='utf-8', index=False)"
   ]
  },
  {
   "cell_type": "markdown",
   "id": "e5fda3d6",
   "metadata": {},
   "source": [
    "## ENTJ"
   ]
  },
  {
   "cell_type": "code",
   "execution_count": 23,
   "id": "f6f56e91",
   "metadata": {
    "collapsed": true
   },
   "outputs": [
    {
     "name": "stderr",
     "output_type": "stream",
     "text": [
      "Text Preprocessing:   2%|\u001b[34m■                                                             \u001b[0m| 15/859 [00:32<27:10,  1.93s/it]\u001b[0m"
     ]
    },
    {
     "name": "stdout",
     "output_type": "stream",
     "text": [
      "오류!\n"
     ]
    },
    {
     "name": "stderr",
     "output_type": "stream",
     "text": [
      "Text Preprocessing:   3%|\u001b[34m■■                                                            \u001b[0m| 28/859 [00:58<24:52,  1.80s/it]\u001b[0m"
     ]
    },
    {
     "name": "stdout",
     "output_type": "stream",
     "text": [
      "오류!\n"
     ]
    },
    {
     "name": "stderr",
     "output_type": "stream",
     "text": [
      "Text Preprocessing:  31%|\u001b[34m■■■■■■■■■■■■■■■■■■                                           \u001b[0m| 262/859 [07:17<15:38,  1.57s/it]\u001b[0m"
     ]
    },
    {
     "name": "stdout",
     "output_type": "stream",
     "text": [
      "오류!\n"
     ]
    },
    {
     "name": "stderr",
     "output_type": "stream",
     "text": [
      "Text Preprocessing:  40%|\u001b[34m■■■■■■■■■■■■■■■■■■■■■■■■                                     \u001b[0m| 341/859 [09:31<08:57,  1.04s/it]\u001b[0m"
     ]
    },
    {
     "name": "stdout",
     "output_type": "stream",
     "text": [
      "오류!\n"
     ]
    },
    {
     "name": "stderr",
     "output_type": "stream",
     "text": [
      "Text Preprocessing:  45%|\u001b[34m■■■■■■■■■■■■■■■■■■■■■■■■■■■                                  \u001b[0m| 389/859 [10:57<09:54,  1.27s/it]\u001b[0m"
     ]
    },
    {
     "name": "stdout",
     "output_type": "stream",
     "text": [
      "오류!\n"
     ]
    },
    {
     "name": "stderr",
     "output_type": "stream",
     "text": [
      "Text Preprocessing:  51%|\u001b[34m■■■■■■■■■■■■■■■■■■■■■■■■■■■■■■                               \u001b[0m| 436/859 [12:22<21:34,  3.06s/it]\u001b[0m"
     ]
    },
    {
     "name": "stdout",
     "output_type": "stream",
     "text": [
      "오류!\n"
     ]
    },
    {
     "name": "stderr",
     "output_type": "stream",
     "text": [
      "Text Preprocessing:  55%|\u001b[34m■■■■■■■■■■■■■■■■■■■■■■■■■■■■■■■■■                            \u001b[0m| 469/859 [13:18<08:47,  1.35s/it]\u001b[0m"
     ]
    },
    {
     "name": "stdout",
     "output_type": "stream",
     "text": [
      "오류!\n"
     ]
    },
    {
     "name": "stderr",
     "output_type": "stream",
     "text": [
      "Text Preprocessing:  67%|\u001b[34m■■■■■■■■■■■■■■■■■■■■■■■■■■■■■■■■■■■■■■■■                     \u001b[0m| 574/859 [16:12<10:12,  2.15s/it]\u001b[0m"
     ]
    },
    {
     "name": "stdout",
     "output_type": "stream",
     "text": [
      "오류!\n"
     ]
    },
    {
     "name": "stderr",
     "output_type": "stream",
     "text": [
      "Text Preprocessing:  69%|\u001b[34m■■■■■■■■■■■■■■■■■■■■■■■■■■■■■■■■■■■■■■■■■■                   \u001b[0m| 597/859 [16:51<09:18,  2.13s/it]\u001b[0m"
     ]
    },
    {
     "name": "stdout",
     "output_type": "stream",
     "text": [
      "오류!\n"
     ]
    },
    {
     "name": "stderr",
     "output_type": "stream",
     "text": [
      "Text Preprocessing:  81%|\u001b[34m■■■■■■■■■■■■■■■■■■■■■■■■■■■■■■■■■■■■■■■■■■■■■■■■■            \u001b[0m| 693/859 [20:13<05:07,  1.85s/it]\u001b[0m"
     ]
    },
    {
     "name": "stdout",
     "output_type": "stream",
     "text": [
      "오류!\n"
     ]
    },
    {
     "name": "stderr",
     "output_type": "stream",
     "text": [
      "Text Preprocessing:  85%|\u001b[34m■■■■■■■■■■■■■■■■■■■■■■■■■■■■■■■■■■■■■■■■■■■■■■■■■■■          \u001b[0m| 732/859 [21:44<02:58,  1.41s/it]\u001b[0m"
     ]
    },
    {
     "name": "stdout",
     "output_type": "stream",
     "text": [
      "오류!\n"
     ]
    },
    {
     "name": "stderr",
     "output_type": "stream",
     "text": [
      "Text Preprocessing:  86%|\u001b[34m■■■■■■■■■■■■■■■■■■■■■■■■■■■■■■■■■■■■■■■■■■■■■■■■■■■■         \u001b[0m| 742/859 [22:03<02:04,  1.07s/it]\u001b[0m"
     ]
    },
    {
     "name": "stdout",
     "output_type": "stream",
     "text": [
      "오류!\n"
     ]
    },
    {
     "name": "stderr",
     "output_type": "stream",
     "text": [
      "Text Preprocessing:  88%|\u001b[34m■■■■■■■■■■■■■■■■■■■■■■■■■■■■■■■■■■■■■■■■■■■■■■■■■■■■■        \u001b[0m| 753/859 [22:31<03:25,  1.93s/it]\u001b[0m"
     ]
    },
    {
     "name": "stdout",
     "output_type": "stream",
     "text": [
      "오류!\n"
     ]
    },
    {
     "name": "stderr",
     "output_type": "stream",
     "text": [
      "Text Preprocessing: 100%|\u001b[34m■■■■■■■■■■■■■■■■■■■■■■■■■■■■■■■■■■■■■■■■■■■■■■■■■■■■■■■■■■■■■\u001b[0m| 859/859 [27:05<00:00,  1.89s/it]\u001b[0m\n"
     ]
    }
   ],
   "source": [
    "progress_bar = tqdm(total=len(MBTI['ENTJ']['content']),\n",
    "                   desc= 'Text Preprocessing',\n",
    "                   ncols=120, ascii=\" ■\", colour='blue')\n",
    "\n",
    "MBTI['ENTJ']['pp_content'] = MBTI['ENTJ']['content'].apply(preprocess_and_update_progress)\n",
    "\n",
    "progress_bar.close()"
   ]
  },
  {
   "cell_type": "code",
   "execution_count": 24,
   "id": "019a9182",
   "metadata": {},
   "outputs": [],
   "source": [
    "MBTI['ENTJ'].to_csv('MBTI_ENTJ_after.csv', encoding='utf-8', index=False)"
   ]
  },
  {
   "cell_type": "markdown",
   "id": "6845c01d",
   "metadata": {},
   "source": [
    "## ENTP"
   ]
  },
  {
   "cell_type": "code",
   "execution_count": 25,
   "id": "da0a6aee",
   "metadata": {
    "collapsed": true
   },
   "outputs": [
    {
     "name": "stderr",
     "output_type": "stream",
     "text": [
      "Text Preprocessing:   0%|\u001b[31m                                                               \u001b[0m| 4/865 [00:09<30:21,  2.12s/it]\u001b[0m"
     ]
    },
    {
     "name": "stdout",
     "output_type": "stream",
     "text": [
      "오류!\n"
     ]
    },
    {
     "name": "stderr",
     "output_type": "stream",
     "text": [
      "Text Preprocessing:  15%|\u001b[31m@@@@@@@@                                                     \u001b[0m| 126/865 [04:21<20:30,  1.67s/it]\u001b[0m"
     ]
    },
    {
     "name": "stdout",
     "output_type": "stream",
     "text": [
      "오류!\n"
     ]
    },
    {
     "name": "stderr",
     "output_type": "stream",
     "text": [
      "Text Preprocessing:  18%|\u001b[31m@@@@@@@@@@                                                   \u001b[0m| 152/865 [05:12<28:02,  2.36s/it]\u001b[0m"
     ]
    },
    {
     "name": "stdout",
     "output_type": "stream",
     "text": [
      "오류!\n"
     ]
    },
    {
     "name": "stderr",
     "output_type": "stream",
     "text": [
      "Text Preprocessing:  57%|\u001b[31m@@@@@@@@@@@@@@@@@@@@@@@@@@@@@@@@@@                           \u001b[0m| 490/865 [15:32<13:24,  2.15s/it]\u001b[0m"
     ]
    },
    {
     "name": "stdout",
     "output_type": "stream",
     "text": [
      "오류!\n"
     ]
    },
    {
     "name": "stderr",
     "output_type": "stream",
     "text": [
      "Text Preprocessing:  67%|\u001b[31m@@@@@@@@@@@@@@@@@@@@@@@@@@@@@@@@@@@@@@@@                     \u001b[0m| 580/865 [18:27<06:33,  1.38s/it]\u001b[0m"
     ]
    },
    {
     "name": "stdout",
     "output_type": "stream",
     "text": [
      "오류!\n"
     ]
    },
    {
     "name": "stderr",
     "output_type": "stream",
     "text": [
      "Text Preprocessing:  78%|\u001b[31m@@@@@@@@@@@@@@@@@@@@@@@@@@@@@@@@@@@@@@@@@@@@@@@              \u001b[0m| 676/865 [21:50<05:58,  1.90s/it]\u001b[0m"
     ]
    },
    {
     "name": "stdout",
     "output_type": "stream",
     "text": [
      "오류!\n"
     ]
    },
    {
     "name": "stderr",
     "output_type": "stream",
     "text": [
      "Text Preprocessing:  86%|\u001b[31m@@@@@@@@@@@@@@@@@@@@@@@@@@@@@@@@@@@@@@@@@@@@@@@@@@@@         \u001b[0m| 741/865 [23:58<02:39,  1.28s/it]\u001b[0m"
     ]
    },
    {
     "name": "stdout",
     "output_type": "stream",
     "text": [
      "오류!\n"
     ]
    },
    {
     "name": "stderr",
     "output_type": "stream",
     "text": [
      "Text Preprocessing:  97%|\u001b[31m@@@@@@@@@@@@@@@@@@@@@@@@@@@@@@@@@@@@@@@@@@@@@@@@@@@@@@@@@@@  \u001b[0m| 842/865 [27:05<00:36,  1.58s/it]\u001b[0m"
     ]
    },
    {
     "name": "stdout",
     "output_type": "stream",
     "text": [
      "오류!\n"
     ]
    },
    {
     "name": "stderr",
     "output_type": "stream",
     "text": [
      "Text Preprocessing: 100%|\u001b[31m@@@@@@@@@@@@@@@@@@@@@@@@@@@@@@@@@@@@@@@@@@@@@@@@@@@@@@@@@@@@@\u001b[0m| 865/865 [27:44<00:00,  1.92s/it]\u001b[0m\n"
     ]
    }
   ],
   "source": [
    "progress_bar = tqdm(total=len(MBTI['ENTP']['content']),\n",
    "                   desc= 'Text Preprocessing',\n",
    "                   ncols=120, ascii=\" @\", colour='red')\n",
    "\n",
    "MBTI['ENTP']['pp_content'] = MBTI['ENTP']['content'].apply(preprocess_and_update_progress)\n",
    "\n",
    "progress_bar.close()"
   ]
  },
  {
   "cell_type": "code",
   "execution_count": 26,
   "id": "4fe9bda3",
   "metadata": {},
   "outputs": [],
   "source": [
    "MBTI['ENTP'].to_csv('MBTI_ENTP_after.csv', encoding='utf-8', index=False)"
   ]
  },
  {
   "cell_type": "markdown",
   "id": "7912edb7",
   "metadata": {},
   "source": [
    "## ESFJ"
   ]
  },
  {
   "cell_type": "code",
   "execution_count": 27,
   "id": "ba871581",
   "metadata": {
    "collapsed": true
   },
   "outputs": [
    {
     "name": "stderr",
     "output_type": "stream",
     "text": [
      "Text Preprocessing:  13%|\u001b[32m@@@@@@@                                                      \u001b[0m| 108/858 [03:34<23:04,  1.85s/it]\u001b[0m"
     ]
    },
    {
     "name": "stdout",
     "output_type": "stream",
     "text": [
      "오류!\n"
     ]
    },
    {
     "name": "stderr",
     "output_type": "stream",
     "text": [
      "Text Preprocessing:  18%|\u001b[32m@@@@@@@@@@                                                   \u001b[0m| 153/858 [04:57<28:59,  2.47s/it]\u001b[0m"
     ]
    },
    {
     "name": "stdout",
     "output_type": "stream",
     "text": [
      "오류!\n"
     ]
    },
    {
     "name": "stderr",
     "output_type": "stream",
     "text": [
      "Text Preprocessing:  20%|\u001b[32m@@@@@@@@@@@@                                                 \u001b[0m| 174/858 [05:28<11:30,  1.01s/it]\u001b[0m"
     ]
    },
    {
     "name": "stdout",
     "output_type": "stream",
     "text": [
      "오류!\n"
     ]
    },
    {
     "name": "stderr",
     "output_type": "stream",
     "text": [
      "Text Preprocessing:  23%|\u001b[32m@@@@@@@@@@@@@@                                               \u001b[0m| 200/858 [06:24<18:35,  1.69s/it]\u001b[0m"
     ]
    },
    {
     "name": "stdout",
     "output_type": "stream",
     "text": [
      "오류!\n"
     ]
    },
    {
     "name": "stderr",
     "output_type": "stream",
     "text": [
      "Text Preprocessing:  26%|\u001b[32m@@@@@@@@@@@@@@@                                              \u001b[0m| 223/858 [07:00<22:46,  2.15s/it]\u001b[0m"
     ]
    },
    {
     "name": "stdout",
     "output_type": "stream",
     "text": [
      "오류!\n"
     ]
    },
    {
     "name": "stderr",
     "output_type": "stream",
     "text": [
      "Text Preprocessing:  38%|\u001b[32m@@@@@@@@@@@@@@@@@@@@@@                                       \u001b[0m| 323/858 [09:44<16:40,  1.87s/it]\u001b[0m"
     ]
    },
    {
     "name": "stdout",
     "output_type": "stream",
     "text": [
      "오류!\n"
     ]
    },
    {
     "name": "stderr",
     "output_type": "stream",
     "text": [
      "Text Preprocessing:  41%|\u001b[32m@@@@@@@@@@@@@@@@@@@@@@@@@                                    \u001b[0m| 354/858 [10:47<12:09,  1.45s/it]\u001b[0m"
     ]
    },
    {
     "name": "stdout",
     "output_type": "stream",
     "text": [
      "오류!\n"
     ]
    },
    {
     "name": "stderr",
     "output_type": "stream",
     "text": [
      "Text Preprocessing:  43%|\u001b[32m@@@@@@@@@@@@@@@@@@@@@@@@@@                                   \u001b[0m| 366/858 [11:05<09:46,  1.19s/it]\u001b[0m"
     ]
    },
    {
     "name": "stdout",
     "output_type": "stream",
     "text": [
      "오류!\n"
     ]
    },
    {
     "name": "stderr",
     "output_type": "stream",
     "text": [
      "Text Preprocessing:  63%|\u001b[32m@@@@@@@@@@@@@@@@@@@@@@@@@@@@@@@@@@@@@@                       \u001b[0m| 543/858 [16:18<11:42,  2.23s/it]\u001b[0m"
     ]
    },
    {
     "name": "stdout",
     "output_type": "stream",
     "text": [
      "오류!\n"
     ]
    },
    {
     "name": "stderr",
     "output_type": "stream",
     "text": [
      "Text Preprocessing:  65%|\u001b[32m@@@@@@@@@@@@@@@@@@@@@@@@@@@@@@@@@@@@@@@                      \u001b[0m| 558/858 [17:00<16:14,  3.25s/it]\u001b[0m"
     ]
    },
    {
     "name": "stdout",
     "output_type": "stream",
     "text": [
      "오류!\n"
     ]
    },
    {
     "name": "stderr",
     "output_type": "stream",
     "text": [
      "Text Preprocessing:  70%|\u001b[32m@@@@@@@@@@@@@@@@@@@@@@@@@@@@@@@@@@@@@@@@@@                   \u001b[0m| 598/858 [18:04<04:47,  1.10s/it]\u001b[0m"
     ]
    },
    {
     "name": "stdout",
     "output_type": "stream",
     "text": [
      "오류!\n"
     ]
    },
    {
     "name": "stderr",
     "output_type": "stream",
     "text": [
      "Text Preprocessing:  87%|\u001b[32m@@@@@@@@@@@@@@@@@@@@@@@@@@@@@@@@@@@@@@@@@@@@@@@@@@@@@        \u001b[0m| 748/858 [22:50<03:50,  2.09s/it]\u001b[0m"
     ]
    },
    {
     "name": "stdout",
     "output_type": "stream",
     "text": [
      "오류!\n"
     ]
    },
    {
     "name": "stderr",
     "output_type": "stream",
     "text": [
      "Text Preprocessing:  97%|\u001b[32m@@@@@@@@@@@@@@@@@@@@@@@@@@@@@@@@@@@@@@@@@@@@@@@@@@@@@@@@@@   \u001b[0m| 829/858 [25:07<02:00,  4.16s/it]\u001b[0m"
     ]
    },
    {
     "name": "stdout",
     "output_type": "stream",
     "text": [
      "오류!\n"
     ]
    },
    {
     "name": "stderr",
     "output_type": "stream",
     "text": [
      "Text Preprocessing: 100%|\u001b[32m@@@@@@@@@@@@@@@@@@@@@@@@@@@@@@@@@@@@@@@@@@@@@@@@@@@@@@@@@@@@ \u001b[0m| 856/858 [25:54<00:03,  1.52s/it]\u001b[0m"
     ]
    },
    {
     "name": "stdout",
     "output_type": "stream",
     "text": [
      "오류!\n"
     ]
    },
    {
     "name": "stderr",
     "output_type": "stream",
     "text": [
      "Text Preprocessing: 100%|\u001b[32m@@@@@@@@@@@@@@@@@@@@@@@@@@@@@@@@@@@@@@@@@@@@@@@@@@@@@@@@@@@@@\u001b[0m| 858/858 [26:11<00:00,  1.83s/it]\u001b[0m\n"
     ]
    }
   ],
   "source": [
    "progress_bar = tqdm(total=len(MBTI['ESFJ']['content']),\n",
    "                   desc= 'Text Preprocessing',\n",
    "                   ncols=120, ascii=\" @\", colour='green')\n",
    "\n",
    "MBTI['ESFJ']['pp_content'] = MBTI['ESFJ']['content'].apply(preprocess_and_update_progress)\n",
    "\n",
    "progress_bar.close()"
   ]
  },
  {
   "cell_type": "code",
   "execution_count": 28,
   "id": "3e5c5cf6",
   "metadata": {},
   "outputs": [],
   "source": [
    "MBTI['ESFJ'].to_csv('MBTI_ESFJ_after.csv', encoding='utf-8', index=False)"
   ]
  },
  {
   "cell_type": "markdown",
   "id": "a2b95b25",
   "metadata": {},
   "source": [
    "## ESFP"
   ]
  },
  {
   "cell_type": "code",
   "execution_count": 29,
   "id": "7fe4eee6",
   "metadata": {
    "collapsed": true
   },
   "outputs": [
    {
     "name": "stderr",
     "output_type": "stream",
     "text": [
      "Text Preprocessing:   6%|@@@                                                           | 51/851 [01:39<23:59,  1.80s/it]"
     ]
    },
    {
     "name": "stdout",
     "output_type": "stream",
     "text": [
      "오류!\n"
     ]
    },
    {
     "name": "stderr",
     "output_type": "stream",
     "text": [
      "Text Preprocessing:  11%|@@@@@@                                                        | 96/851 [02:57<21:19,  1.69s/it]"
     ]
    },
    {
     "name": "stdout",
     "output_type": "stream",
     "text": [
      "오류!\n"
     ]
    },
    {
     "name": "stderr",
     "output_type": "stream",
     "text": [
      "Text Preprocessing:  12%|@@@@@@@                                                      | 100/851 [03:03<17:42,  1.42s/it]"
     ]
    },
    {
     "name": "stdout",
     "output_type": "stream",
     "text": [
      "오류!\n"
     ]
    },
    {
     "name": "stderr",
     "output_type": "stream",
     "text": [
      "Text Preprocessing:  18%|@@@@@@@@@@@                                                  | 154/851 [04:46<14:00,  1.21s/it]"
     ]
    },
    {
     "name": "stdout",
     "output_type": "stream",
     "text": [
      "오류!\n"
     ]
    },
    {
     "name": "stderr",
     "output_type": "stream",
     "text": [
      "Text Preprocessing:  22%|@@@@@@@@@@@@@                                                | 183/851 [05:36<23:17,  2.09s/it]"
     ]
    },
    {
     "name": "stdout",
     "output_type": "stream",
     "text": [
      "오류!\n"
     ]
    },
    {
     "name": "stderr",
     "output_type": "stream",
     "text": [
      "Text Preprocessing:  28%|@@@@@@@@@@@@@@@@                                             | 236/851 [07:17<29:01,  2.83s/it]"
     ]
    },
    {
     "name": "stdout",
     "output_type": "stream",
     "text": [
      "오류!\n"
     ]
    },
    {
     "name": "stderr",
     "output_type": "stream",
     "text": [
      "Text Preprocessing:  30%|@@@@@@@@@@@@@@@@@@                                           | 252/851 [07:55<17:09,  1.72s/it]"
     ]
    },
    {
     "name": "stdout",
     "output_type": "stream",
     "text": [
      "오류!\n"
     ]
    },
    {
     "name": "stderr",
     "output_type": "stream",
     "text": [
      "Text Preprocessing:  30%|@@@@@@@@@@@@@@@@@@                                           | 254/851 [07:59<19:17,  1.94s/it]"
     ]
    },
    {
     "name": "stdout",
     "output_type": "stream",
     "text": [
      "오류!\n"
     ]
    },
    {
     "name": "stderr",
     "output_type": "stream",
     "text": [
      "Text Preprocessing:  34%|@@@@@@@@@@@@@@@@@@@@                                         | 291/851 [08:58<11:56,  1.28s/it]"
     ]
    },
    {
     "name": "stdout",
     "output_type": "stream",
     "text": [
      "오류!\n"
     ]
    },
    {
     "name": "stderr",
     "output_type": "stream",
     "text": [
      "Text Preprocessing:  59%|@@@@@@@@@@@@@@@@@@@@@@@@@@@@@@@@@@@                          | 502/851 [15:25<22:00,  3.78s/it]"
     ]
    },
    {
     "name": "stdout",
     "output_type": "stream",
     "text": [
      "오류!\n"
     ]
    },
    {
     "name": "stderr",
     "output_type": "stream",
     "text": [
      "Text Preprocessing:  60%|@@@@@@@@@@@@@@@@@@@@@@@@@@@@@@@@@@@@                         | 511/851 [15:43<14:00,  2.47s/it]"
     ]
    },
    {
     "name": "stdout",
     "output_type": "stream",
     "text": [
      "오류!\n"
     ]
    },
    {
     "name": "stderr",
     "output_type": "stream",
     "text": [
      "Text Preprocessing:  63%|@@@@@@@@@@@@@@@@@@@@@@@@@@@@@@@@@@@@@@                       | 537/851 [16:35<08:21,  1.60s/it]"
     ]
    },
    {
     "name": "stdout",
     "output_type": "stream",
     "text": [
      "오류!\n"
     ]
    },
    {
     "name": "stderr",
     "output_type": "stream",
     "text": [
      "Text Preprocessing:  64%|@@@@@@@@@@@@@@@@@@@@@@@@@@@@@@@@@@@@@@@                      | 547/851 [17:13<14:15,  2.81s/it]"
     ]
    },
    {
     "name": "stdout",
     "output_type": "stream",
     "text": [
      "오류!\n"
     ]
    },
    {
     "name": "stderr",
     "output_type": "stream",
     "text": [
      "Text Preprocessing:  65%|@@@@@@@@@@@@@@@@@@@@@@@@@@@@@@@@@@@@@@@                      | 553/851 [17:24<07:50,  1.58s/it]"
     ]
    },
    {
     "name": "stdout",
     "output_type": "stream",
     "text": [
      "오류!\n"
     ]
    },
    {
     "name": "stderr",
     "output_type": "stream",
     "text": [
      "Text Preprocessing:  65%|@@@@@@@@@@@@@@@@@@@@@@@@@@@@@@@@@@@@@@@                      | 557/851 [17:32<08:40,  1.77s/it]"
     ]
    },
    {
     "name": "stdout",
     "output_type": "stream",
     "text": [
      "오류!\n"
     ]
    },
    {
     "name": "stderr",
     "output_type": "stream",
     "text": [
      "Text Preprocessing:  66%|@@@@@@@@@@@@@@@@@@@@@@@@@@@@@@@@@@@@@@@@                     | 565/851 [17:48<07:25,  1.56s/it]"
     ]
    },
    {
     "name": "stdout",
     "output_type": "stream",
     "text": [
      "오류!\n"
     ]
    },
    {
     "name": "stderr",
     "output_type": "stream",
     "text": [
      "Text Preprocessing:  88%|@@@@@@@@@@@@@@@@@@@@@@@@@@@@@@@@@@@@@@@@@@@@@@@@@@@@@        | 747/851 [23:33<05:37,  3.24s/it]"
     ]
    },
    {
     "name": "stdout",
     "output_type": "stream",
     "text": [
      "오류!\n"
     ]
    },
    {
     "name": "stderr",
     "output_type": "stream",
     "text": [
      "Text Preprocessing:  93%|@@@@@@@@@@@@@@@@@@@@@@@@@@@@@@@@@@@@@@@@@@@@@@@@@@@@@@@@     | 793/851 [25:05<01:09,  1.20s/it]"
     ]
    },
    {
     "name": "stdout",
     "output_type": "stream",
     "text": [
      "오류!\n"
     ]
    },
    {
     "name": "stderr",
     "output_type": "stream",
     "text": [
      "Text Preprocessing: 100%|@@@@@@@@@@@@@@@@@@@@@@@@@@@@@@@@@@@@@@@@@@@@@@@@@@@@@@@@@@@@@| 851/851 [26:50<00:00,  1.89s/it]\n"
     ]
    }
   ],
   "source": [
    "progress_bar = tqdm(total=len(MBTI['ESFP']['content']),\n",
    "                   desc= 'Text Preprocessing',\n",
    "                   ncols=120, ascii=\" @\")\n",
    "\n",
    "MBTI['ESFP']['pp_content'] = MBTI['ESFP']['content'].apply(preprocess_and_update_progress)\n",
    "\n",
    "progress_bar.close()"
   ]
  },
  {
   "cell_type": "code",
   "execution_count": 30,
   "id": "0e4ca695",
   "metadata": {},
   "outputs": [],
   "source": [
    "MBTI['ESFP'].to_csv('MBTI_ESFP_after.csv', encoding='utf-8', index=False)"
   ]
  },
  {
   "cell_type": "markdown",
   "id": "4e7f67fb",
   "metadata": {},
   "source": [
    "## ESTJ"
   ]
  },
  {
   "cell_type": "code",
   "execution_count": 15,
   "id": "36d06dbc",
   "metadata": {
    "collapsed": true
   },
   "outputs": [
    {
     "name": "stderr",
     "output_type": "stream",
     "text": [
      "Text Preprocessing:   3%|@                                                             | 24/863 [00:51<22:39,  1.62s/it]"
     ]
    },
    {
     "name": "stdout",
     "output_type": "stream",
     "text": [
      "오류!\n"
     ]
    },
    {
     "name": "stderr",
     "output_type": "stream",
     "text": [
      "\r",
      "Text Preprocessing:   3%|@                                                             | 25/863 [00:53<23:55,  1.71s/it]"
     ]
    },
    {
     "name": "stdout",
     "output_type": "stream",
     "text": [
      "오류!\n"
     ]
    },
    {
     "name": "stderr",
     "output_type": "stream",
     "text": [
      "Text Preprocessing:  10%|@@@@@@                                                        | 87/863 [02:45<26:49,  2.07s/it]"
     ]
    },
    {
     "name": "stdout",
     "output_type": "stream",
     "text": [
      "오류!\n"
     ]
    },
    {
     "name": "stderr",
     "output_type": "stream",
     "text": [
      "\r",
      "Text Preprocessing:  10%|@@@@@@                                                        | 88/863 [02:46<22:00,  1.70s/it]"
     ]
    },
    {
     "name": "stdout",
     "output_type": "stream",
     "text": [
      "오류!\n"
     ]
    },
    {
     "name": "stderr",
     "output_type": "stream",
     "text": [
      "Text Preprocessing:  22%|@@@@@@@@@@@@@                                                | 186/863 [05:16<20:26,  1.81s/it]"
     ]
    },
    {
     "name": "stdout",
     "output_type": "stream",
     "text": [
      "오류!\n"
     ]
    },
    {
     "name": "stderr",
     "output_type": "stream",
     "text": [
      "Text Preprocessing:  28%|@@@@@@@@@@@@@@@@@                                            | 244/863 [06:44<26:39,  2.58s/it]"
     ]
    },
    {
     "name": "stdout",
     "output_type": "stream",
     "text": [
      "오류!\n"
     ]
    },
    {
     "name": "stderr",
     "output_type": "stream",
     "text": [
      "Text Preprocessing:  30%|@@@@@@@@@@@@@@@@@@                                           | 260/863 [07:07<19:13,  1.91s/it]"
     ]
    },
    {
     "name": "stdout",
     "output_type": "stream",
     "text": [
      "오류!\n"
     ]
    },
    {
     "name": "stderr",
     "output_type": "stream",
     "text": [
      "Text Preprocessing:  33%|@@@@@@@@@@@@@@@@@@@@                                         | 288/863 [07:52<17:03,  1.78s/it]"
     ]
    },
    {
     "name": "stdout",
     "output_type": "stream",
     "text": [
      "오류!\n"
     ]
    },
    {
     "name": "stderr",
     "output_type": "stream",
     "text": [
      "Text Preprocessing:  47%|@@@@@@@@@@@@@@@@@@@@@@@@@@@@                                 | 406/863 [10:54<09:14,  1.21s/it]"
     ]
    },
    {
     "name": "stdout",
     "output_type": "stream",
     "text": [
      "오류!\n"
     ]
    },
    {
     "name": "stderr",
     "output_type": "stream",
     "text": [
      "Text Preprocessing:  55%|@@@@@@@@@@@@@@@@@@@@@@@@@@@@@@@@@                            | 473/863 [12:40<05:49,  1.11it/s]"
     ]
    },
    {
     "name": "stdout",
     "output_type": "stream",
     "text": [
      "오류!\n"
     ]
    },
    {
     "name": "stderr",
     "output_type": "stream",
     "text": [
      "Text Preprocessing:  56%|@@@@@@@@@@@@@@@@@@@@@@@@@@@@@@@@@                            | 480/863 [12:50<08:54,  1.40s/it]"
     ]
    },
    {
     "name": "stdout",
     "output_type": "stream",
     "text": [
      "오류!\n"
     ]
    },
    {
     "name": "stderr",
     "output_type": "stream",
     "text": [
      "Text Preprocessing:  72%|@@@@@@@@@@@@@@@@@@@@@@@@@@@@@@@@@@@@@@@@@@@                  | 622/863 [16:39<06:30,  1.62s/it]"
     ]
    },
    {
     "name": "stdout",
     "output_type": "stream",
     "text": [
      "오류!\n"
     ]
    },
    {
     "name": "stderr",
     "output_type": "stream",
     "text": [
      "Text Preprocessing:  87%|@@@@@@@@@@@@@@@@@@@@@@@@@@@@@@@@@@@@@@@@@@@@@@@@@@@@@        | 750/863 [20:25<02:11,  1.16s/it]"
     ]
    },
    {
     "name": "stdout",
     "output_type": "stream",
     "text": [
      "오류!\n"
     ]
    },
    {
     "name": "stderr",
     "output_type": "stream",
     "text": [
      "Text Preprocessing:  91%|@@@@@@@@@@@@@@@@@@@@@@@@@@@@@@@@@@@@@@@@@@@@@@@@@@@@@@@      | 787/863 [21:25<01:11,  1.07it/s]"
     ]
    },
    {
     "name": "stdout",
     "output_type": "stream",
     "text": [
      "오류!\n"
     ]
    },
    {
     "name": "stderr",
     "output_type": "stream",
     "text": [
      "Text Preprocessing:  94%|@@@@@@@@@@@@@@@@@@@@@@@@@@@@@@@@@@@@@@@@@@@@@@@@@@@@@@@@@    | 811/863 [22:13<01:04,  1.24s/it]"
     ]
    },
    {
     "name": "stdout",
     "output_type": "stream",
     "text": [
      "오류!\n"
     ]
    },
    {
     "name": "stderr",
     "output_type": "stream",
     "text": [
      "Text Preprocessing:  97%|@@@@@@@@@@@@@@@@@@@@@@@@@@@@@@@@@@@@@@@@@@@@@@@@@@@@@@@@@@@  | 841/863 [23:05<00:45,  2.08s/it]"
     ]
    },
    {
     "name": "stdout",
     "output_type": "stream",
     "text": [
      "오류!\n"
     ]
    },
    {
     "name": "stderr",
     "output_type": "stream",
     "text": [
      "Text Preprocessing:  99%|@@@@@@@@@@@@@@@@@@@@@@@@@@@@@@@@@@@@@@@@@@@@@@@@@@@@@@@@@@@@ | 851/863 [23:20<00:18,  1.54s/it]"
     ]
    },
    {
     "name": "stdout",
     "output_type": "stream",
     "text": [
      "오류!\n"
     ]
    },
    {
     "name": "stderr",
     "output_type": "stream",
     "text": [
      "Text Preprocessing:  99%|@@@@@@@@@@@@@@@@@@@@@@@@@@@@@@@@@@@@@@@@@@@@@@@@@@@@@@@@@@@@ | 857/863 [23:26<00:06,  1.15s/it]"
     ]
    },
    {
     "name": "stdout",
     "output_type": "stream",
     "text": [
      "오류!\n"
     ]
    },
    {
     "name": "stderr",
     "output_type": "stream",
     "text": [
      "Text Preprocessing: 100%|@@@@@@@@@@@@@@@@@@@@@@@@@@@@@@@@@@@@@@@@@@@@@@@@@@@@@@@@@@@@@| 863/863 [24:13<00:00,  1.68s/it]\n"
     ]
    }
   ],
   "source": [
    "progress_bar = tqdm(total=len(MBTI['ESTJ']['content']),\n",
    "                   desc= 'Text Preprocessing',\n",
    "                   ncols=120, ascii=\" @\")\n",
    "\n",
    "MBTI['ESTJ']['pp_content'] = MBTI['ESTJ']['content'].apply(preprocess_and_update_progress)\n",
    "\n",
    "progress_bar.close()"
   ]
  },
  {
   "cell_type": "code",
   "execution_count": 16,
   "id": "795eac30",
   "metadata": {},
   "outputs": [],
   "source": [
    "MBTI['ESTJ'].to_csv('MBTI_ESTJ_after.csv', encoding='utf-8', index=False)"
   ]
  },
  {
   "cell_type": "markdown",
   "id": "881e1d80",
   "metadata": {},
   "source": [
    "## ESTP"
   ]
  },
  {
   "cell_type": "code",
   "execution_count": 17,
   "id": "23bda782",
   "metadata": {
    "collapsed": true
   },
   "outputs": [
    {
     "name": "stderr",
     "output_type": "stream",
     "text": [
      "Text Preprocessing:   3%|@                                                             | 22/837 [00:44<20:26,  1.51s/it]"
     ]
    },
    {
     "name": "stdout",
     "output_type": "stream",
     "text": [
      "오류!\n"
     ]
    },
    {
     "name": "stderr",
     "output_type": "stream",
     "text": [
      "Text Preprocessing:   5%|@@@                                                           | 43/837 [01:21<22:47,  1.72s/it]"
     ]
    },
    {
     "name": "stdout",
     "output_type": "stream",
     "text": [
      "오류!\n"
     ]
    },
    {
     "name": "stderr",
     "output_type": "stream",
     "text": [
      "Text Preprocessing:   6%|@@@                                                           | 51/837 [01:34<20:38,  1.58s/it]"
     ]
    },
    {
     "name": "stdout",
     "output_type": "stream",
     "text": [
      "오류!\n"
     ]
    },
    {
     "name": "stderr",
     "output_type": "stream",
     "text": [
      "Text Preprocessing:  19%|@@@@@@@@@@@                                                  | 159/837 [04:15<15:19,  1.36s/it]"
     ]
    },
    {
     "name": "stdout",
     "output_type": "stream",
     "text": [
      "오류!\n"
     ]
    },
    {
     "name": "stderr",
     "output_type": "stream",
     "text": [
      "Text Preprocessing:  20%|@@@@@@@@@@@@                                                 | 166/837 [04:25<13:20,  1.19s/it]"
     ]
    },
    {
     "name": "stdout",
     "output_type": "stream",
     "text": [
      "오류!\n"
     ]
    },
    {
     "name": "stderr",
     "output_type": "stream",
     "text": [
      "Text Preprocessing:  22%|@@@@@@@@@@@@@                                                | 180/837 [04:43<12:11,  1.11s/it]"
     ]
    },
    {
     "name": "stdout",
     "output_type": "stream",
     "text": [
      "오류!\n"
     ]
    },
    {
     "name": "stderr",
     "output_type": "stream",
     "text": [
      "Text Preprocessing:  28%|@@@@@@@@@@@@@@@@@                                            | 236/837 [06:05<19:57,  1.99s/it]"
     ]
    },
    {
     "name": "stdout",
     "output_type": "stream",
     "text": [
      "오류!\n"
     ]
    },
    {
     "name": "stderr",
     "output_type": "stream",
     "text": [
      "Text Preprocessing:  38%|@@@@@@@@@@@@@@@@@@@@@@@                                      | 320/837 [08:26<15:14,  1.77s/it]"
     ]
    },
    {
     "name": "stdout",
     "output_type": "stream",
     "text": [
      "오류!\n"
     ]
    },
    {
     "name": "stderr",
     "output_type": "stream",
     "text": [
      "Text Preprocessing:  42%|@@@@@@@@@@@@@@@@@@@@@@@@@                                    | 353/837 [09:17<10:54,  1.35s/it]"
     ]
    },
    {
     "name": "stdout",
     "output_type": "stream",
     "text": [
      "오류!\n"
     ]
    },
    {
     "name": "stderr",
     "output_type": "stream",
     "text": [
      "Text Preprocessing:  51%|@@@@@@@@@@@@@@@@@@@@@@@@@@@@@@                               | 423/837 [10:55<11:56,  1.73s/it]"
     ]
    },
    {
     "name": "stdout",
     "output_type": "stream",
     "text": [
      "오류!\n"
     ]
    },
    {
     "name": "stderr",
     "output_type": "stream",
     "text": [
      "Text Preprocessing:  52%|@@@@@@@@@@@@@@@@@@@@@@@@@@@@@@@                              | 436/837 [11:19<08:38,  1.29s/it]"
     ]
    },
    {
     "name": "stdout",
     "output_type": "stream",
     "text": [
      "오류!\n"
     ]
    },
    {
     "name": "stderr",
     "output_type": "stream",
     "text": [
      "Text Preprocessing:  66%|@@@@@@@@@@@@@@@@@@@@@@@@@@@@@@@@@@@@@@@@                     | 556/837 [15:07<11:58,  2.56s/it]"
     ]
    },
    {
     "name": "stdout",
     "output_type": "stream",
     "text": [
      "오류!\n"
     ]
    },
    {
     "name": "stderr",
     "output_type": "stream",
     "text": [
      "Text Preprocessing:  83%|@@@@@@@@@@@@@@@@@@@@@@@@@@@@@@@@@@@@@@@@@@@@@@@@@@           | 695/837 [19:33<04:16,  1.81s/it]"
     ]
    },
    {
     "name": "stdout",
     "output_type": "stream",
     "text": [
      "오류!\n"
     ]
    },
    {
     "name": "stderr",
     "output_type": "stream",
     "text": [
      "Text Preprocessing:  92%|@@@@@@@@@@@@@@@@@@@@@@@@@@@@@@@@@@@@@@@@@@@@@@@@@@@@@@@@     | 771/837 [21:39<02:37,  2.38s/it]"
     ]
    },
    {
     "name": "stdout",
     "output_type": "stream",
     "text": [
      "오류!\n"
     ]
    },
    {
     "name": "stderr",
     "output_type": "stream",
     "text": [
      "Text Preprocessing: 100%|@@@@@@@@@@@@@@@@@@@@@@@@@@@@@@@@@@@@@@@@@@@@@@@@@@@@@@@@@@@@@| 837/837 [23:16<00:00,  1.67s/it]\n"
     ]
    }
   ],
   "source": [
    "progress_bar = tqdm(total=len(MBTI['ESTP']['content']),\n",
    "                   desc= 'Text Preprocessing',\n",
    "                   ncols=120, ascii=\" @\")\n",
    "\n",
    "MBTI['ESTP']['pp_content'] = MBTI['ESTP']['content'].apply(preprocess_and_update_progress)\n",
    "\n",
    "progress_bar.close()"
   ]
  },
  {
   "cell_type": "code",
   "execution_count": 18,
   "id": "cffe2d5b",
   "metadata": {},
   "outputs": [],
   "source": [
    "MBTI['ESTP'].to_csv('MBTI_ESTP_after.csv', encoding='utf-8', index=False)"
   ]
  },
  {
   "cell_type": "markdown",
   "id": "03a7081c",
   "metadata": {},
   "source": [
    "## INFJ"
   ]
  },
  {
   "cell_type": "code",
   "execution_count": 19,
   "id": "6e8b03e4",
   "metadata": {
    "collapsed": true
   },
   "outputs": [
    {
     "name": "stderr",
     "output_type": "stream",
     "text": [
      "Text Preprocessing:   1%|                                                              | 12/857 [00:25<35:44,  2.54s/it]"
     ]
    },
    {
     "name": "stdout",
     "output_type": "stream",
     "text": [
      "오류!\n"
     ]
    },
    {
     "name": "stderr",
     "output_type": "stream",
     "text": [
      "Text Preprocessing:   6%|@@@                                                           | 53/857 [01:49<27:27,  2.05s/it]"
     ]
    },
    {
     "name": "stdout",
     "output_type": "stream",
     "text": [
      "오류!\n"
     ]
    },
    {
     "name": "stderr",
     "output_type": "stream",
     "text": [
      "\r",
      "Text Preprocessing:   6%|@@@                                                           | 54/857 [01:50<25:48,  1.93s/it]"
     ]
    },
    {
     "name": "stdout",
     "output_type": "stream",
     "text": [
      "오류!\n"
     ]
    },
    {
     "name": "stderr",
     "output_type": "stream",
     "text": [
      "Text Preprocessing:   8%|@@@@                                                          | 69/857 [02:21<24:35,  1.87s/it]"
     ]
    },
    {
     "name": "stdout",
     "output_type": "stream",
     "text": [
      "오류!\n"
     ]
    },
    {
     "name": "stderr",
     "output_type": "stream",
     "text": [
      "Text Preprocessing:  29%|@@@@@@@@@@@@@@@@@                                            | 246/857 [07:25<14:14,  1.40s/it]"
     ]
    },
    {
     "name": "stdout",
     "output_type": "stream",
     "text": [
      "오류!\n"
     ]
    },
    {
     "name": "stderr",
     "output_type": "stream",
     "text": [
      "Text Preprocessing:  40%|@@@@@@@@@@@@@@@@@@@@@@@@                                     | 339/857 [10:51<11:54,  1.38s/it]"
     ]
    },
    {
     "name": "stdout",
     "output_type": "stream",
     "text": [
      "오류!\n"
     ]
    },
    {
     "name": "stderr",
     "output_type": "stream",
     "text": [
      "Text Preprocessing:  57%|@@@@@@@@@@@@@@@@@@@@@@@@@@@@@@@@@@                           | 489/857 [15:27<05:39,  1.08it/s]"
     ]
    },
    {
     "name": "stdout",
     "output_type": "stream",
     "text": [
      "오류!\n"
     ]
    },
    {
     "name": "stderr",
     "output_type": "stream",
     "text": [
      "Text Preprocessing:  77%|@@@@@@@@@@@@@@@@@@@@@@@@@@@@@@@@@@@@@@@@@@@@@@               | 659/857 [21:00<03:58,  1.20s/it]"
     ]
    },
    {
     "name": "stdout",
     "output_type": "stream",
     "text": [
      "오류!\n"
     ]
    },
    {
     "name": "stderr",
     "output_type": "stream",
     "text": [
      "Text Preprocessing:  99%|@@@@@@@@@@@@@@@@@@@@@@@@@@@@@@@@@@@@@@@@@@@@@@@@@@@@@@@@@@@@ | 852/857 [26:48<00:06,  1.20s/it]"
     ]
    },
    {
     "name": "stdout",
     "output_type": "stream",
     "text": [
      "오류!\n"
     ]
    },
    {
     "name": "stderr",
     "output_type": "stream",
     "text": [
      "Text Preprocessing: 100%|@@@@@@@@@@@@@@@@@@@@@@@@@@@@@@@@@@@@@@@@@@@@@@@@@@@@@@@@@@@@@| 857/857 [26:55<00:00,  1.89s/it]\n"
     ]
    }
   ],
   "source": [
    "progress_bar = tqdm(total=len(MBTI['INFJ']['content']),\n",
    "                   desc= 'Text Preprocessing',\n",
    "                   ncols=120, ascii=\" @\")\n",
    "\n",
    "MBTI['INFJ']['pp_content'] = MBTI['INFJ']['content'].apply(preprocess_and_update_progress)\n",
    "\n",
    "progress_bar.close()"
   ]
  },
  {
   "cell_type": "code",
   "execution_count": 20,
   "id": "612a2354",
   "metadata": {},
   "outputs": [],
   "source": [
    "MBTI['INFJ'].to_csv('MBTI_INFJ_after.csv', encoding='utf-8', index=False)"
   ]
  },
  {
   "cell_type": "markdown",
   "id": "5f8ff905",
   "metadata": {},
   "source": [
    "## INFP"
   ]
  },
  {
   "cell_type": "code",
   "execution_count": 21,
   "id": "b742387b",
   "metadata": {
    "collapsed": true
   },
   "outputs": [
    {
     "name": "stderr",
     "output_type": "stream",
     "text": [
      "Text Preprocessing:   1%|                                                               | 9/863 [00:19<38:06,  2.68s/it]"
     ]
    },
    {
     "name": "stdout",
     "output_type": "stream",
     "text": [
      "오류!\n"
     ]
    },
    {
     "name": "stderr",
     "output_type": "stream",
     "text": [
      "Text Preprocessing:   1%|                                                              | 12/863 [00:24<28:35,  2.02s/it]"
     ]
    },
    {
     "name": "stdout",
     "output_type": "stream",
     "text": [
      "오류!\n"
     ]
    },
    {
     "name": "stderr",
     "output_type": "stream",
     "text": [
      "Text Preprocessing:   5%|@@                                                            | 39/863 [01:22<31:07,  2.27s/it]"
     ]
    },
    {
     "name": "stdout",
     "output_type": "stream",
     "text": [
      "오류!\n"
     ]
    },
    {
     "name": "stderr",
     "output_type": "stream",
     "text": [
      "Text Preprocessing:   7%|@@@@                                                          | 64/863 [02:13<34:07,  2.56s/it]"
     ]
    },
    {
     "name": "stdout",
     "output_type": "stream",
     "text": [
      "오류!\n"
     ]
    },
    {
     "name": "stderr",
     "output_type": "stream",
     "text": [
      "Text Preprocessing:  15%|@@@@@@@@                                                     | 127/863 [04:02<17:25,  1.42s/it]"
     ]
    },
    {
     "name": "stdout",
     "output_type": "stream",
     "text": [
      "오류!\n"
     ]
    },
    {
     "name": "stderr",
     "output_type": "stream",
     "text": [
      "Text Preprocessing:  19%|@@@@@@@@@@@                                                  | 166/863 [05:06<25:26,  2.19s/it]"
     ]
    },
    {
     "name": "stdout",
     "output_type": "stream",
     "text": [
      "오류!\n"
     ]
    },
    {
     "name": "stderr",
     "output_type": "stream",
     "text": [
      "Text Preprocessing:  20%|@@@@@@@@@@@@                                                 | 173/863 [05:21<22:19,  1.94s/it]"
     ]
    },
    {
     "name": "stdout",
     "output_type": "stream",
     "text": [
      "오류!\n"
     ]
    },
    {
     "name": "stderr",
     "output_type": "stream",
     "text": [
      "Text Preprocessing:  22%|@@@@@@@@@@@@@                                                | 191/863 [05:50<14:46,  1.32s/it]"
     ]
    },
    {
     "name": "stdout",
     "output_type": "stream",
     "text": [
      "오류!\n"
     ]
    },
    {
     "name": "stderr",
     "output_type": "stream",
     "text": [
      "Text Preprocessing:  25%|@@@@@@@@@@@@@@@                                              | 217/863 [06:45<19:50,  1.84s/it]"
     ]
    },
    {
     "name": "stdout",
     "output_type": "stream",
     "text": [
      "오류!\n"
     ]
    },
    {
     "name": "stderr",
     "output_type": "stream",
     "text": [
      "Text Preprocessing:  36%|@@@@@@@@@@@@@@@@@@@@@                                        | 308/863 [09:36<19:56,  2.16s/it]"
     ]
    },
    {
     "name": "stdout",
     "output_type": "stream",
     "text": [
      "오류!\n"
     ]
    },
    {
     "name": "stderr",
     "output_type": "stream",
     "text": [
      "Text Preprocessing:  39%|@@@@@@@@@@@@@@@@@@@@@@@@                                     | 340/863 [10:35<12:43,  1.46s/it]"
     ]
    },
    {
     "name": "stdout",
     "output_type": "stream",
     "text": [
      "오류!\n"
     ]
    },
    {
     "name": "stderr",
     "output_type": "stream",
     "text": [
      "Text Preprocessing:  48%|@@@@@@@@@@@@@@@@@@@@@@@@@@@@@                                | 411/863 [12:39<18:54,  2.51s/it]"
     ]
    },
    {
     "name": "stdout",
     "output_type": "stream",
     "text": [
      "오류!\n"
     ]
    },
    {
     "name": "stderr",
     "output_type": "stream",
     "text": [
      "Text Preprocessing:  49%|@@@@@@@@@@@@@@@@@@@@@@@@@@@@@                                | 420/863 [13:00<17:06,  2.32s/it]"
     ]
    },
    {
     "name": "stdout",
     "output_type": "stream",
     "text": [
      "오류!\n"
     ]
    },
    {
     "name": "stderr",
     "output_type": "stream",
     "text": [
      "Text Preprocessing:  49%|@@@@@@@@@@@@@@@@@@@@@@@@@@@@@@                               | 427/863 [13:14<14:49,  2.04s/it]"
     ]
    },
    {
     "name": "stdout",
     "output_type": "stream",
     "text": [
      "오류!\n"
     ]
    },
    {
     "name": "stderr",
     "output_type": "stream",
     "text": [
      "Text Preprocessing:  52%|@@@@@@@@@@@@@@@@@@@@@@@@@@@@@@@                              | 450/863 [13:55<10:51,  1.58s/it]"
     ]
    },
    {
     "name": "stdout",
     "output_type": "stream",
     "text": [
      "오류!\n"
     ]
    },
    {
     "name": "stderr",
     "output_type": "stream",
     "text": [
      "Text Preprocessing:  53%|@@@@@@@@@@@@@@@@@@@@@@@@@@@@@@@@                             | 461/863 [14:09<09:19,  1.39s/it]"
     ]
    },
    {
     "name": "stdout",
     "output_type": "stream",
     "text": [
      "오류!\n"
     ]
    },
    {
     "name": "stderr",
     "output_type": "stream",
     "text": [
      "Text Preprocessing:  61%|@@@@@@@@@@@@@@@@@@@@@@@@@@@@@@@@@@@@@                        | 525/863 [16:07<13:27,  2.39s/it]"
     ]
    },
    {
     "name": "stdout",
     "output_type": "stream",
     "text": [
      "오류!\n"
     ]
    },
    {
     "name": "stderr",
     "output_type": "stream",
     "text": [
      "Text Preprocessing:  64%|@@@@@@@@@@@@@@@@@@@@@@@@@@@@@@@@@@@@@@                       | 550/863 [17:03<14:49,  2.84s/it]"
     ]
    },
    {
     "name": "stdout",
     "output_type": "stream",
     "text": [
      "오류!\n"
     ]
    },
    {
     "name": "stderr",
     "output_type": "stream",
     "text": [
      "Text Preprocessing:  65%|@@@@@@@@@@@@@@@@@@@@@@@@@@@@@@@@@@@@@@@                      | 558/863 [17:20<09:47,  1.93s/it]"
     ]
    },
    {
     "name": "stdout",
     "output_type": "stream",
     "text": [
      "오류!\n"
     ]
    },
    {
     "name": "stderr",
     "output_type": "stream",
     "text": [
      "Text Preprocessing:  66%|@@@@@@@@@@@@@@@@@@@@@@@@@@@@@@@@@@@@@@@@                     | 568/863 [17:38<08:30,  1.73s/it]"
     ]
    },
    {
     "name": "stdout",
     "output_type": "stream",
     "text": [
      "오류!\n"
     ]
    },
    {
     "name": "stderr",
     "output_type": "stream",
     "text": [
      "Text Preprocessing:  67%|@@@@@@@@@@@@@@@@@@@@@@@@@@@@@@@@@@@@@@@@                     | 580/863 [17:56<06:45,  1.43s/it]"
     ]
    },
    {
     "name": "stdout",
     "output_type": "stream",
     "text": [
      "오류!\n"
     ]
    },
    {
     "name": "stderr",
     "output_type": "stream",
     "text": [
      "Text Preprocessing:  67%|@@@@@@@@@@@@@@@@@@@@@@@@@@@@@@@@@@@@@@@@@                    | 582/863 [18:02<10:38,  2.27s/it]"
     ]
    },
    {
     "name": "stdout",
     "output_type": "stream",
     "text": [
      "오류!\n"
     ]
    },
    {
     "name": "stderr",
     "output_type": "stream",
     "text": [
      "Text Preprocessing:  68%|@@@@@@@@@@@@@@@@@@@@@@@@@@@@@@@@@@@@@@@@@                    | 587/863 [18:13<10:09,  2.21s/it]"
     ]
    },
    {
     "name": "stdout",
     "output_type": "stream",
     "text": [
      "오류!\n"
     ]
    },
    {
     "name": "stderr",
     "output_type": "stream",
     "text": [
      "Text Preprocessing:  70%|@@@@@@@@@@@@@@@@@@@@@@@@@@@@@@@@@@@@@@@@@@                   | 607/863 [18:50<13:09,  3.09s/it]"
     ]
    },
    {
     "name": "stdout",
     "output_type": "stream",
     "text": [
      "오류!\n"
     ]
    },
    {
     "name": "stderr",
     "output_type": "stream",
     "text": [
      "Text Preprocessing:  76%|@@@@@@@@@@@@@@@@@@@@@@@@@@@@@@@@@@@@@@@@@@@@@@               | 655/863 [19:55<05:34,  1.61s/it]"
     ]
    },
    {
     "name": "stdout",
     "output_type": "stream",
     "text": [
      "오류!\n"
     ]
    },
    {
     "name": "stderr",
     "output_type": "stream",
     "text": [
      "Text Preprocessing:  80%|@@@@@@@@@@@@@@@@@@@@@@@@@@@@@@@@@@@@@@@@@@@@@@@@@            | 694/863 [21:00<08:02,  2.86s/it]"
     ]
    },
    {
     "name": "stdout",
     "output_type": "stream",
     "text": [
      "오류!\n"
     ]
    },
    {
     "name": "stderr",
     "output_type": "stream",
     "text": [
      "Text Preprocessing:  91%|@@@@@@@@@@@@@@@@@@@@@@@@@@@@@@@@@@@@@@@@@@@@@@@@@@@@@@@      | 785/863 [23:35<02:42,  2.09s/it]"
     ]
    },
    {
     "name": "stdout",
     "output_type": "stream",
     "text": [
      "오류!\n"
     ]
    },
    {
     "name": "stderr",
     "output_type": "stream",
     "text": [
      "Text Preprocessing:  91%|@@@@@@@@@@@@@@@@@@@@@@@@@@@@@@@@@@@@@@@@@@@@@@@@@@@@@@@      | 788/863 [23:41<02:20,  1.88s/it]"
     ]
    },
    {
     "name": "stdout",
     "output_type": "stream",
     "text": [
      "오류!\n"
     ]
    },
    {
     "name": "stderr",
     "output_type": "stream",
     "text": [
      "Text Preprocessing:  95%|@@@@@@@@@@@@@@@@@@@@@@@@@@@@@@@@@@@@@@@@@@@@@@@@@@@@@@@@@    | 819/863 [24:44<01:12,  1.64s/it]"
     ]
    },
    {
     "name": "stdout",
     "output_type": "stream",
     "text": [
      "오류!\n"
     ]
    },
    {
     "name": "stderr",
     "output_type": "stream",
     "text": [
      "Text Preprocessing:  96%|@@@@@@@@@@@@@@@@@@@@@@@@@@@@@@@@@@@@@@@@@@@@@@@@@@@@@@@@@@   | 828/863 [24:58<00:37,  1.08s/it]"
     ]
    },
    {
     "name": "stdout",
     "output_type": "stream",
     "text": [
      "오류!\n"
     ]
    },
    {
     "name": "stderr",
     "output_type": "stream",
     "text": [
      "Text Preprocessing: 100%|@@@@@@@@@@@@@@@@@@@@@@@@@@@@@@@@@@@@@@@@@@@@@@@@@@@@@@@@@@@@ | 859/863 [25:46<00:07,  1.96s/it]"
     ]
    },
    {
     "name": "stdout",
     "output_type": "stream",
     "text": [
      "오류!\n"
     ]
    },
    {
     "name": "stderr",
     "output_type": "stream",
     "text": [
      "Text Preprocessing: 100%|@@@@@@@@@@@@@@@@@@@@@@@@@@@@@@@@@@@@@@@@@@@@@@@@@@@@@@@@@@@@ | 861/863 [25:52<00:05,  2.72s/it]"
     ]
    },
    {
     "name": "stdout",
     "output_type": "stream",
     "text": [
      "오류!\n"
     ]
    },
    {
     "name": "stderr",
     "output_type": "stream",
     "text": [
      "Text Preprocessing: 100%|@@@@@@@@@@@@@@@@@@@@@@@@@@@@@@@@@@@@@@@@@@@@@@@@@@@@@@@@@@@@@| 863/863 [25:55<00:00,  1.80s/it]\n"
     ]
    }
   ],
   "source": [
    "progress_bar = tqdm(total=len(MBTI['INFP']['content']),\n",
    "                   desc= 'Text Preprocessing',\n",
    "                   ncols=120, ascii=\" @\")\n",
    "\n",
    "MBTI['INFP']['pp_content'] = MBTI['INFP']['content'].apply(preprocess_and_update_progress)\n",
    "\n",
    "progress_bar.close()"
   ]
  },
  {
   "cell_type": "code",
   "execution_count": 22,
   "id": "f46eae80",
   "metadata": {},
   "outputs": [],
   "source": [
    "MBTI['INFP'].to_csv('MBTI_INFP_after.csv', encoding='utf-8', index=False)"
   ]
  },
  {
   "cell_type": "markdown",
   "id": "d138b789",
   "metadata": {},
   "source": [
    "## INTJ"
   ]
  },
  {
   "cell_type": "code",
   "execution_count": 23,
   "id": "b833341f",
   "metadata": {
    "collapsed": true
   },
   "outputs": [
    {
     "name": "stderr",
     "output_type": "stream",
     "text": [
      "Text Preprocessing:   9%|\u001b[34m@@@@@                                                         \u001b[0m| 80/847 [02:29<21:33,  1.69s/it]\u001b[0m"
     ]
    },
    {
     "name": "stdout",
     "output_type": "stream",
     "text": [
      "오류!\n"
     ]
    },
    {
     "name": "stderr",
     "output_type": "stream",
     "text": [
      "Text Preprocessing:  20%|\u001b[34m@@@@@@@@@@@@                                                 \u001b[0m| 168/847 [04:58<25:24,  2.25s/it]\u001b[0m"
     ]
    },
    {
     "name": "stdout",
     "output_type": "stream",
     "text": [
      "오류!\n"
     ]
    },
    {
     "name": "stderr",
     "output_type": "stream",
     "text": [
      "Text Preprocessing:  32%|\u001b[34m@@@@@@@@@@@@@@@@@@@                                          \u001b[0m| 275/847 [08:02<18:10,  1.91s/it]\u001b[0m"
     ]
    },
    {
     "name": "stdout",
     "output_type": "stream",
     "text": [
      "오류!\n"
     ]
    },
    {
     "name": "stderr",
     "output_type": "stream",
     "text": [
      "Text Preprocessing:  42%|\u001b[34m@@@@@@@@@@@@@@@@@@@@@@@@@                                    \u001b[0m| 359/847 [10:19<22:09,  2.73s/it]\u001b[0m"
     ]
    },
    {
     "name": "stdout",
     "output_type": "stream",
     "text": [
      "오류!\n"
     ]
    },
    {
     "name": "stderr",
     "output_type": "stream",
     "text": [
      "Text Preprocessing:  51%|\u001b[34m@@@@@@@@@@@@@@@@@@@@@@@@@@@@@@                               \u001b[0m| 429/847 [12:22<09:30,  1.36s/it]\u001b[0m"
     ]
    },
    {
     "name": "stdout",
     "output_type": "stream",
     "text": [
      "오류!\n"
     ]
    },
    {
     "name": "stderr",
     "output_type": "stream",
     "text": [
      "Text Preprocessing:  67%|\u001b[34m@@@@@@@@@@@@@@@@@@@@@@@@@@@@@@@@@@@@@@@@                     \u001b[0m| 567/847 [16:18<05:26,  1.17s/it]\u001b[0m"
     ]
    },
    {
     "name": "stdout",
     "output_type": "stream",
     "text": [
      "오류!\n"
     ]
    },
    {
     "name": "stderr",
     "output_type": "stream",
     "text": [
      "Text Preprocessing:  92%|\u001b[34m@@@@@@@@@@@@@@@@@@@@@@@@@@@@@@@@@@@@@@@@@@@@@@@@@@@@@@@@     \u001b[0m| 782/847 [21:55<01:37,  1.50s/it]\u001b[0m"
     ]
    },
    {
     "name": "stdout",
     "output_type": "stream",
     "text": [
      "오류!\n"
     ]
    },
    {
     "name": "stderr",
     "output_type": "stream",
     "text": [
      "Text Preprocessing:  99%|\u001b[34m@@@@@@@@@@@@@@@@@@@@@@@@@@@@@@@@@@@@@@@@@@@@@@@@@@@@@@@@@@@@ \u001b[0m| 842/847 [23:38<00:09,  1.81s/it]\u001b[0m"
     ]
    },
    {
     "name": "stdout",
     "output_type": "stream",
     "text": [
      "오류!\n"
     ]
    },
    {
     "name": "stderr",
     "output_type": "stream",
     "text": [
      "Text Preprocessing: 100%|\u001b[34m@@@@@@@@@@@@@@@@@@@@@@@@@@@@@@@@@@@@@@@@@@@@@@@@@@@@@@@@@@@@@\u001b[0m| 847/847 [23:49<00:00,  1.69s/it]\u001b[0m\n"
     ]
    }
   ],
   "source": [
    "progress_bar = tqdm(total=len(MBTI['INTJ']['content']),\n",
    "                   desc= 'Text Preprocessing',\n",
    "                   ncols=120, ascii=\" @\", colour='blue')\n",
    "\n",
    "MBTI['INTJ']['pp_content'] = MBTI['INTJ']['content'].apply(preprocess_and_update_progress)\n",
    "\n",
    "progress_bar.close()"
   ]
  },
  {
   "cell_type": "code",
   "execution_count": 24,
   "id": "3277277f",
   "metadata": {},
   "outputs": [],
   "source": [
    "MBTI['INTJ'].to_csv('MBTI_INTJ_after.csv', encoding='utf-8', index=False)"
   ]
  },
  {
   "cell_type": "markdown",
   "id": "d1261d61",
   "metadata": {},
   "source": [
    "## INTP"
   ]
  },
  {
   "cell_type": "code",
   "execution_count": 25,
   "id": "4637c3fc",
   "metadata": {
    "collapsed": true
   },
   "outputs": [
    {
     "name": "stderr",
     "output_type": "stream",
     "text": [
      "Text Preprocessing:  14%|@@@@@@@@                                                     | 117/830 [03:25<20:12,  1.70s/it]"
     ]
    },
    {
     "name": "stdout",
     "output_type": "stream",
     "text": [
      "오류!\n"
     ]
    },
    {
     "name": "stderr",
     "output_type": "stream",
     "text": [
      "Text Preprocessing:  34%|@@@@@@@@@@@@@@@@@@@@                                         | 284/830 [08:11<16:10,  1.78s/it]"
     ]
    },
    {
     "name": "stdout",
     "output_type": "stream",
     "text": [
      "오류!\n"
     ]
    },
    {
     "name": "stderr",
     "output_type": "stream",
     "text": [
      "Text Preprocessing:  46%|@@@@@@@@@@@@@@@@@@@@@@@@@@@@                                 | 384/830 [11:28<16:17,  2.19s/it]"
     ]
    },
    {
     "name": "stdout",
     "output_type": "stream",
     "text": [
      "오류!\n"
     ]
    },
    {
     "name": "stderr",
     "output_type": "stream",
     "text": [
      "Text Preprocessing:  50%|@@@@@@@@@@@@@@@@@@@@@@@@@@@@@@                               | 419/830 [12:21<10:35,  1.55s/it]"
     ]
    },
    {
     "name": "stdout",
     "output_type": "stream",
     "text": [
      "오류!\n"
     ]
    },
    {
     "name": "stderr",
     "output_type": "stream",
     "text": [
      "Text Preprocessing:  51%|@@@@@@@@@@@@@@@@@@@@@@@@@@@@@@@                              | 424/830 [12:41<19:42,  2.91s/it]"
     ]
    },
    {
     "name": "stdout",
     "output_type": "stream",
     "text": [
      "오류!\n"
     ]
    },
    {
     "name": "stderr",
     "output_type": "stream",
     "text": [
      "Text Preprocessing:  56%|@@@@@@@@@@@@@@@@@@@@@@@@@@@@@@@@@@                           | 464/830 [14:24<12:56,  2.12s/it]"
     ]
    },
    {
     "name": "stdout",
     "output_type": "stream",
     "text": [
      "오류!\n"
     ]
    },
    {
     "name": "stderr",
     "output_type": "stream",
     "text": [
      "Text Preprocessing:  61%|@@@@@@@@@@@@@@@@@@@@@@@@@@@@@@@@@@@@@                        | 507/830 [15:26<09:06,  1.69s/it]"
     ]
    },
    {
     "name": "stdout",
     "output_type": "stream",
     "text": [
      "오류!\n"
     ]
    },
    {
     "name": "stderr",
     "output_type": "stream",
     "text": [
      "Text Preprocessing:  77%|@@@@@@@@@@@@@@@@@@@@@@@@@@@@@@@@@@@@@@@@@@@@@@@              | 642/830 [19:34<04:57,  1.58s/it]"
     ]
    },
    {
     "name": "stdout",
     "output_type": "stream",
     "text": [
      "오류!\n"
     ]
    },
    {
     "name": "stderr",
     "output_type": "stream",
     "text": [
      "Text Preprocessing:  87%|@@@@@@@@@@@@@@@@@@@@@@@@@@@@@@@@@@@@@@@@@@@@@@@@@@@@@        | 723/830 [21:48<02:52,  1.61s/it]"
     ]
    },
    {
     "name": "stdout",
     "output_type": "stream",
     "text": [
      "오류!\n"
     ]
    },
    {
     "name": "stderr",
     "output_type": "stream",
     "text": [
      "Text Preprocessing:  90%|@@@@@@@@@@@@@@@@@@@@@@@@@@@@@@@@@@@@@@@@@@@@@@@@@@@@@@@      | 749/830 [22:46<03:33,  2.64s/it]"
     ]
    },
    {
     "name": "stdout",
     "output_type": "stream",
     "text": [
      "오류!\n"
     ]
    },
    {
     "name": "stderr",
     "output_type": "stream",
     "text": [
      "Text Preprocessing:  95%|@@@@@@@@@@@@@@@@@@@@@@@@@@@@@@@@@@@@@@@@@@@@@@@@@@@@@@@@@    | 788/830 [24:08<01:39,  2.38s/it]"
     ]
    },
    {
     "name": "stdout",
     "output_type": "stream",
     "text": [
      "오류!\n"
     ]
    },
    {
     "name": "stderr",
     "output_type": "stream",
     "text": [
      "Text Preprocessing: 100%|@@@@@@@@@@@@@@@@@@@@@@@@@@@@@@@@@@@@@@@@@@@@@@@@@@@@@@@@@@@@@| 830/830 [25:18<00:00,  1.83s/it]\n"
     ]
    }
   ],
   "source": [
    "progress_bar = tqdm(total=len(MBTI['INTP']['content']),\n",
    "                   desc= 'Text Preprocessing',\n",
    "                   ncols=120, ascii=\" @\", colour='purple')\n",
    "\n",
    "MBTI['INTP']['pp_content'] = MBTI['INTP']['content'].apply(preprocess_and_update_progress)\n",
    "\n",
    "progress_bar.close()"
   ]
  },
  {
   "cell_type": "code",
   "execution_count": 26,
   "id": "32ca555b",
   "metadata": {},
   "outputs": [],
   "source": [
    "MBTI['INTP'].to_csv('MBTI_INTP_after.csv', encoding='utf-8', index=False)"
   ]
  },
  {
   "cell_type": "markdown",
   "id": "955b00aa",
   "metadata": {},
   "source": [
    "## ISFJ"
   ]
  },
  {
   "cell_type": "code",
   "execution_count": 27,
   "id": "eb1d10ce",
   "metadata": {
    "collapsed": true
   },
   "outputs": [
    {
     "name": "stderr",
     "output_type": "stream",
     "text": [
      "Text Preprocessing:  11%|\u001b[32m@@@@@@                                                        \u001b[0m| 94/867 [02:45<09:32,  1.35it/s]\u001b[0m"
     ]
    },
    {
     "name": "stdout",
     "output_type": "stream",
     "text": [
      "오류!\n"
     ]
    },
    {
     "name": "stderr",
     "output_type": "stream",
     "text": [
      "Text Preprocessing:  20%|\u001b[32m@@@@@@@@@@@                                                  \u001b[0m| 170/867 [04:53<22:17,  1.92s/it]\u001b[0m"
     ]
    },
    {
     "name": "stdout",
     "output_type": "stream",
     "text": [
      "오류!\n"
     ]
    },
    {
     "name": "stderr",
     "output_type": "stream",
     "text": [
      "Text Preprocessing:  21%|\u001b[32m@@@@@@@@@@@@                                                 \u001b[0m| 182/867 [05:21<24:38,  2.16s/it]\u001b[0m"
     ]
    },
    {
     "name": "stdout",
     "output_type": "stream",
     "text": [
      "오류!\n"
     ]
    },
    {
     "name": "stderr",
     "output_type": "stream",
     "text": [
      "Text Preprocessing:  32%|\u001b[32m@@@@@@@@@@@@@@@@@@@                                          \u001b[0m| 276/867 [08:14<17:48,  1.81s/it]\u001b[0m"
     ]
    },
    {
     "name": "stdout",
     "output_type": "stream",
     "text": [
      "오류!\n"
     ]
    },
    {
     "name": "stderr",
     "output_type": "stream",
     "text": [
      "Text Preprocessing:  34%|\u001b[32m@@@@@@@@@@@@@@@@@@@@                                         \u001b[0m| 291/867 [08:45<22:08,  2.31s/it]\u001b[0m"
     ]
    },
    {
     "name": "stdout",
     "output_type": "stream",
     "text": [
      "오류!\n"
     ]
    },
    {
     "name": "stderr",
     "output_type": "stream",
     "text": [
      "Text Preprocessing:  55%|\u001b[32m@@@@@@@@@@@@@@@@@@@@@@@@@@@@@@@@@                            \u001b[0m| 475/867 [13:51<08:52,  1.36s/it]\u001b[0m"
     ]
    },
    {
     "name": "stdout",
     "output_type": "stream",
     "text": [
      "오류!\n"
     ]
    },
    {
     "name": "stderr",
     "output_type": "stream",
     "text": [
      "Text Preprocessing:  57%|\u001b[32m@@@@@@@@@@@@@@@@@@@@@@@@@@@@@@@@@@                           \u001b[0m| 495/867 [14:22<12:26,  2.01s/it]\u001b[0m"
     ]
    },
    {
     "name": "stdout",
     "output_type": "stream",
     "text": [
      "오류!\n"
     ]
    },
    {
     "name": "stderr",
     "output_type": "stream",
     "text": [
      "Text Preprocessing:  73%|\u001b[32m@@@@@@@@@@@@@@@@@@@@@@@@@@@@@@@@@@@@@@@@@@@@                 \u001b[0m| 629/867 [17:26<06:50,  1.72s/it]\u001b[0m"
     ]
    },
    {
     "name": "stdout",
     "output_type": "stream",
     "text": [
      "오류!\n"
     ]
    },
    {
     "name": "stderr",
     "output_type": "stream",
     "text": [
      "Text Preprocessing:  77%|\u001b[32m@@@@@@@@@@@@@@@@@@@@@@@@@@@@@@@@@@@@@@@@@@@@@@               \u001b[0m| 666/867 [18:35<06:53,  2.06s/it]\u001b[0m"
     ]
    },
    {
     "name": "stdout",
     "output_type": "stream",
     "text": [
      "오류!\n"
     ]
    },
    {
     "name": "stderr",
     "output_type": "stream",
     "text": [
      "Text Preprocessing:  79%|\u001b[32m@@@@@@@@@@@@@@@@@@@@@@@@@@@@@@@@@@@@@@@@@@@@@@@@             \u001b[0m| 686/867 [19:04<03:53,  1.29s/it]\u001b[0m"
     ]
    },
    {
     "name": "stdout",
     "output_type": "stream",
     "text": [
      "오류!\n"
     ]
    },
    {
     "name": "stderr",
     "output_type": "stream",
     "text": [
      "Text Preprocessing: 100%|\u001b[32m@@@@@@@@@@@@@@@@@@@@@@@@@@@@@@@@@@@@@@@@@@@@@@@@@@@@@@@@@@@@@\u001b[0m| 867/867 [24:15<00:00,  1.68s/it]\u001b[0m\n"
     ]
    }
   ],
   "source": [
    "progress_bar = tqdm(total=len(MBTI['ISFJ']['content']),\n",
    "                   desc= 'Text Preprocessing',\n",
    "                   ncols=120, ascii=\" @\", colour='green')\n",
    "\n",
    "MBTI['ISFJ']['pp_content'] = MBTI['ISFJ']['content'].apply(preprocess_and_update_progress)\n",
    "\n",
    "progress_bar.close()"
   ]
  },
  {
   "cell_type": "code",
   "execution_count": 28,
   "id": "dde9c667",
   "metadata": {},
   "outputs": [],
   "source": [
    "MBTI['ISFJ'].to_csv('MBTI_ISFJ_after.csv', encoding='utf-8', index=False)"
   ]
  },
  {
   "cell_type": "markdown",
   "id": "1ff3f42d",
   "metadata": {},
   "source": [
    "## ISFP"
   ]
  },
  {
   "cell_type": "code",
   "execution_count": 29,
   "id": "1e30e063",
   "metadata": {
    "collapsed": true
   },
   "outputs": [
    {
     "name": "stderr",
     "output_type": "stream",
     "text": [
      "Text Preprocessing:   0%|                                                               | 1/873 [00:02<41:12,  2.84s/it]"
     ]
    },
    {
     "name": "stdout",
     "output_type": "stream",
     "text": [
      "오류!\n"
     ]
    },
    {
     "name": "stderr",
     "output_type": "stream",
     "text": [
      "Text Preprocessing:   3%|@                                                             | 28/873 [00:54<23:40,  1.68s/it]"
     ]
    },
    {
     "name": "stdout",
     "output_type": "stream",
     "text": [
      "오류!\n"
     ]
    },
    {
     "name": "stderr",
     "output_type": "stream",
     "text": [
      "Text Preprocessing:  14%|@@@@@@@@                                                     | 119/873 [03:22<27:51,  2.22s/it]"
     ]
    },
    {
     "name": "stdout",
     "output_type": "stream",
     "text": [
      "오류!\n"
     ]
    },
    {
     "name": "stderr",
     "output_type": "stream",
     "text": [
      "Text Preprocessing:  16%|@@@@@@@@@@                                                   | 144/873 [04:09<16:09,  1.33s/it]"
     ]
    },
    {
     "name": "stdout",
     "output_type": "stream",
     "text": [
      "오류!\n"
     ]
    },
    {
     "name": "stderr",
     "output_type": "stream",
     "text": [
      "Text Preprocessing:  25%|@@@@@@@@@@@@@@@                                              | 221/873 [06:15<15:26,  1.42s/it]"
     ]
    },
    {
     "name": "stdout",
     "output_type": "stream",
     "text": [
      "오류!\n"
     ]
    },
    {
     "name": "stderr",
     "output_type": "stream",
     "text": [
      "Text Preprocessing:  32%|@@@@@@@@@@@@@@@@@@@                                          | 280/873 [08:04<17:20,  1.75s/it]"
     ]
    },
    {
     "name": "stdout",
     "output_type": "stream",
     "text": [
      "오류!\n"
     ]
    },
    {
     "name": "stderr",
     "output_type": "stream",
     "text": [
      "Text Preprocessing:  44%|@@@@@@@@@@@@@@@@@@@@@@@@@@@                                  | 387/873 [11:05<09:48,  1.21s/it]"
     ]
    },
    {
     "name": "stdout",
     "output_type": "stream",
     "text": [
      "오류!\n"
     ]
    },
    {
     "name": "stderr",
     "output_type": "stream",
     "text": [
      "Text Preprocessing:  50%|@@@@@@@@@@@@@@@@@@@@@@@@@@@@@@                               | 437/873 [12:19<11:50,  1.63s/it]"
     ]
    },
    {
     "name": "stdout",
     "output_type": "stream",
     "text": [
      "오류!\n"
     ]
    },
    {
     "name": "stderr",
     "output_type": "stream",
     "text": [
      "Text Preprocessing:  52%|@@@@@@@@@@@@@@@@@@@@@@@@@@@@@@@                              | 451/873 [12:42<12:15,  1.74s/it]"
     ]
    },
    {
     "name": "stdout",
     "output_type": "stream",
     "text": [
      "오류!\n"
     ]
    },
    {
     "name": "stderr",
     "output_type": "stream",
     "text": [
      "Text Preprocessing:  55%|@@@@@@@@@@@@@@@@@@@@@@@@@@@@@@@@@                            | 480/873 [13:23<12:23,  1.89s/it]"
     ]
    },
    {
     "name": "stdout",
     "output_type": "stream",
     "text": [
      "오류!\n"
     ]
    },
    {
     "name": "stderr",
     "output_type": "stream",
     "text": [
      "Text Preprocessing:  56%|@@@@@@@@@@@@@@@@@@@@@@@@@@@@@@@@@@                           | 487/873 [13:34<11:59,  1.86s/it]"
     ]
    },
    {
     "name": "stdout",
     "output_type": "stream",
     "text": [
      "오류!\n"
     ]
    },
    {
     "name": "stderr",
     "output_type": "stream",
     "text": [
      "Text Preprocessing:  57%|@@@@@@@@@@@@@@@@@@@@@@@@@@@@@@@@@@@                          | 501/873 [13:50<07:32,  1.22s/it]"
     ]
    },
    {
     "name": "stdout",
     "output_type": "stream",
     "text": [
      "오류!\n"
     ]
    },
    {
     "name": "stderr",
     "output_type": "stream",
     "text": [
      "Text Preprocessing:  80%|@@@@@@@@@@@@@@@@@@@@@@@@@@@@@@@@@@@@@@@@@@@@@@@@@            | 702/873 [19:05<02:33,  1.11it/s]"
     ]
    },
    {
     "name": "stdout",
     "output_type": "stream",
     "text": [
      "오류!\n"
     ]
    },
    {
     "name": "stderr",
     "output_type": "stream",
     "text": [
      "Text Preprocessing:  84%|@@@@@@@@@@@@@@@@@@@@@@@@@@@@@@@@@@@@@@@@@@@@@@@@@@@          | 735/873 [19:52<02:27,  1.07s/it]"
     ]
    },
    {
     "name": "stdout",
     "output_type": "stream",
     "text": [
      "오류!\n"
     ]
    },
    {
     "name": "stderr",
     "output_type": "stream",
     "text": [
      "Text Preprocessing:  90%|@@@@@@@@@@@@@@@@@@@@@@@@@@@@@@@@@@@@@@@@@@@@@@@@@@@@@@       | 784/873 [21:19<01:42,  1.15s/it]"
     ]
    },
    {
     "name": "stdout",
     "output_type": "stream",
     "text": [
      "오류!\n"
     ]
    },
    {
     "name": "stderr",
     "output_type": "stream",
     "text": [
      "Text Preprocessing:  93%|@@@@@@@@@@@@@@@@@@@@@@@@@@@@@@@@@@@@@@@@@@@@@@@@@@@@@@@@     | 813/873 [22:15<01:34,  1.58s/it]"
     ]
    },
    {
     "name": "stdout",
     "output_type": "stream",
     "text": [
      "오류!\n"
     ]
    },
    {
     "name": "stderr",
     "output_type": "stream",
     "text": [
      "Text Preprocessing:  94%|@@@@@@@@@@@@@@@@@@@@@@@@@@@@@@@@@@@@@@@@@@@@@@@@@@@@@@@@@    | 817/873 [22:20<01:11,  1.28s/it]"
     ]
    },
    {
     "name": "stdout",
     "output_type": "stream",
     "text": [
      "오류!\n"
     ]
    },
    {
     "name": "stderr",
     "output_type": "stream",
     "text": [
      "Text Preprocessing:  97%|@@@@@@@@@@@@@@@@@@@@@@@@@@@@@@@@@@@@@@@@@@@@@@@@@@@@@@@@@@@  | 846/873 [23:18<00:33,  1.23s/it]"
     ]
    },
    {
     "name": "stdout",
     "output_type": "stream",
     "text": [
      "오류!\n"
     ]
    },
    {
     "name": "stderr",
     "output_type": "stream",
     "text": [
      "Text Preprocessing:  99%|@@@@@@@@@@@@@@@@@@@@@@@@@@@@@@@@@@@@@@@@@@@@@@@@@@@@@@@@@@@@ | 866/873 [23:44<00:04,  1.55it/s]"
     ]
    },
    {
     "name": "stdout",
     "output_type": "stream",
     "text": [
      "오류!\n"
     ]
    },
    {
     "name": "stderr",
     "output_type": "stream",
     "text": [
      "Text Preprocessing: 100%|@@@@@@@@@@@@@@@@@@@@@@@@@@@@@@@@@@@@@@@@@@@@@@@@@@@@@@@@@@@@@| 873/873 [23:55<00:00,  1.64s/it]\n"
     ]
    }
   ],
   "source": [
    "progress_bar = tqdm(total=len(MBTI['ISFP']['content']),\n",
    "                   desc= 'Text Preprocessing',\n",
    "                   ncols=120, ascii=\" @\")\n",
    "\n",
    "MBTI['ISFP']['pp_content'] = MBTI['ISFP']['content'].apply(preprocess_and_update_progress)\n",
    "\n",
    "progress_bar.close()"
   ]
  },
  {
   "cell_type": "code",
   "execution_count": 30,
   "id": "0a6ce658",
   "metadata": {},
   "outputs": [],
   "source": [
    "MBTI['ISFP'].to_csv('MBTI_ISFP_after.csv', encoding='utf-8', index=False)"
   ]
  },
  {
   "cell_type": "markdown",
   "id": "4d87fff0",
   "metadata": {},
   "source": [
    "## ISTJ"
   ]
  },
  {
   "cell_type": "code",
   "execution_count": 36,
   "id": "12a9c242",
   "metadata": {
    "collapsed": true
   },
   "outputs": [
    {
     "name": "stderr",
     "output_type": "stream",
     "text": [
      "Text Preprocessing:  13%|@@@@@@@@                                                     | 115/854 [03:46<20:39,  1.68s/it]"
     ]
    },
    {
     "name": "stdout",
     "output_type": "stream",
     "text": [
      "오류!\n"
     ]
    },
    {
     "name": "stderr",
     "output_type": "stream",
     "text": [
      "Text Preprocessing:  19%|@@@@@@@@@@@                                                  | 166/854 [05:36<25:58,  2.27s/it]"
     ]
    },
    {
     "name": "stdout",
     "output_type": "stream",
     "text": [
      "오류!\n"
     ]
    },
    {
     "name": "stderr",
     "output_type": "stream",
     "text": [
      "Text Preprocessing:  29%|@@@@@@@@@@@@@@@@@                                            | 247/854 [07:57<13:15,  1.31s/it]"
     ]
    },
    {
     "name": "stdout",
     "output_type": "stream",
     "text": [
      "오류!\n"
     ]
    },
    {
     "name": "stderr",
     "output_type": "stream",
     "text": [
      "Text Preprocessing:  31%|@@@@@@@@@@@@@@@@@@                                           | 261/854 [08:19<16:10,  1.64s/it]"
     ]
    },
    {
     "name": "stdout",
     "output_type": "stream",
     "text": [
      "오류!\n"
     ]
    },
    {
     "name": "stderr",
     "output_type": "stream",
     "text": [
      "Text Preprocessing:  37%|@@@@@@@@@@@@@@@@@@@@@@                                       | 315/854 [10:08<14:35,  1.62s/it]"
     ]
    },
    {
     "name": "stdout",
     "output_type": "stream",
     "text": [
      "오류!\n"
     ]
    },
    {
     "name": "stderr",
     "output_type": "stream",
     "text": [
      "Text Preprocessing:  39%|@@@@@@@@@@@@@@@@@@@@@@@@                                     | 337/854 [10:39<09:17,  1.08s/it]"
     ]
    },
    {
     "name": "stdout",
     "output_type": "stream",
     "text": [
      "오류!\n"
     ]
    },
    {
     "name": "stderr",
     "output_type": "stream",
     "text": [
      "Text Preprocessing:  59%|@@@@@@@@@@@@@@@@@@@@@@@@@@@@@@@@@@@                          | 502/854 [15:49<06:42,  1.14s/it]"
     ]
    },
    {
     "name": "stdout",
     "output_type": "stream",
     "text": [
      "오류!\n"
     ]
    },
    {
     "name": "stderr",
     "output_type": "stream",
     "text": [
      "Text Preprocessing:  59%|@@@@@@@@@@@@@@@@@@@@@@@@@@@@@@@@@@@@                         | 506/854 [15:54<06:41,  1.15s/it]"
     ]
    },
    {
     "name": "stdout",
     "output_type": "stream",
     "text": [
      "오류!\n"
     ]
    },
    {
     "name": "stderr",
     "output_type": "stream",
     "text": [
      "Text Preprocessing:  62%|@@@@@@@@@@@@@@@@@@@@@@@@@@@@@@@@@@@@@                        | 527/854 [16:37<11:14,  2.06s/it]"
     ]
    },
    {
     "name": "stdout",
     "output_type": "stream",
     "text": [
      "오류!\n"
     ]
    },
    {
     "name": "stderr",
     "output_type": "stream",
     "text": [
      "Text Preprocessing:  75%|@@@@@@@@@@@@@@@@@@@@@@@@@@@@@@@@@@@@@@@@@@@@@                | 641/854 [20:05<04:03,  1.15s/it]"
     ]
    },
    {
     "name": "stdout",
     "output_type": "stream",
     "text": [
      "오류!\n"
     ]
    },
    {
     "name": "stderr",
     "output_type": "stream",
     "text": [
      "Text Preprocessing:  76%|@@@@@@@@@@@@@@@@@@@@@@@@@@@@@@@@@@@@@@@@@@@@@@               | 650/854 [20:18<03:49,  1.12s/it]"
     ]
    },
    {
     "name": "stdout",
     "output_type": "stream",
     "text": [
      "오류!\n"
     ]
    },
    {
     "name": "stderr",
     "output_type": "stream",
     "text": [
      "Text Preprocessing:  80%|@@@@@@@@@@@@@@@@@@@@@@@@@@@@@@@@@@@@@@@@@@@@@@@@             | 685/854 [21:16<02:12,  1.28it/s]"
     ]
    },
    {
     "name": "stdout",
     "output_type": "stream",
     "text": [
      "오류!\n"
     ]
    },
    {
     "name": "stderr",
     "output_type": "stream",
     "text": [
      "Text Preprocessing:  81%|@@@@@@@@@@@@@@@@@@@@@@@@@@@@@@@@@@@@@@@@@@@@@@@@@            | 688/854 [21:21<03:53,  1.41s/it]"
     ]
    },
    {
     "name": "stdout",
     "output_type": "stream",
     "text": [
      "오류!\n"
     ]
    },
    {
     "name": "stderr",
     "output_type": "stream",
     "text": [
      "\r",
      "Text Preprocessing:  81%|@@@@@@@@@@@@@@@@@@@@@@@@@@@@@@@@@@@@@@@@@@@@@@@@@            | 689/854 [21:22<03:11,  1.16s/it]"
     ]
    },
    {
     "name": "stdout",
     "output_type": "stream",
     "text": [
      "오류!\n"
     ]
    },
    {
     "name": "stderr",
     "output_type": "stream",
     "text": [
      "\r",
      "Text Preprocessing:  81%|@@@@@@@@@@@@@@@@@@@@@@@@@@@@@@@@@@@@@@@@@@@@@@@@@            | 690/854 [21:22<02:28,  1.10it/s]"
     ]
    },
    {
     "name": "stdout",
     "output_type": "stream",
     "text": [
      "오류!\n"
     ]
    },
    {
     "name": "stderr",
     "output_type": "stream",
     "text": [
      "Text Preprocessing:  82%|@@@@@@@@@@@@@@@@@@@@@@@@@@@@@@@@@@@@@@@@@@@@@@@@@            | 698/854 [21:35<02:41,  1.04s/it]"
     ]
    },
    {
     "name": "stdout",
     "output_type": "stream",
     "text": [
      "오류!\n"
     ]
    },
    {
     "name": "stderr",
     "output_type": "stream",
     "text": [
      "Text Preprocessing: 100%|@@@@@@@@@@@@@@@@@@@@@@@@@@@@@@@@@@@@@@@@@@@@@@@@@@@@@@@@@@@@ | 850/854 [26:31<00:13,  3.35s/it]"
     ]
    },
    {
     "name": "stdout",
     "output_type": "stream",
     "text": [
      "오류!\n"
     ]
    },
    {
     "name": "stderr",
     "output_type": "stream",
     "text": [
      "Text Preprocessing: 100%|@@@@@@@@@@@@@@@@@@@@@@@@@@@@@@@@@@@@@@@@@@@@@@@@@@@@@@@@@@@@@| 854/854 [26:35<00:00,  1.87s/it]\n"
     ]
    }
   ],
   "source": [
    "progress_bar = tqdm(total=len(MBTI['ISTJ']['content']),\n",
    "                   desc= 'Text Preprocessing',\n",
    "                   ncols=120, ascii=\" @\")\n",
    "\n",
    "MBTI['ISTJ']['pp_content'] = MBTI['ISTJ']['content'].apply(preprocess_and_update_progress)\n",
    "\n",
    "progress_bar.close()"
   ]
  },
  {
   "cell_type": "code",
   "execution_count": 37,
   "id": "248a9dd4",
   "metadata": {},
   "outputs": [],
   "source": [
    "MBTI['ISTJ'].to_csv('MBTI_ISTJ_after.csv', encoding='utf-8', index=False)"
   ]
  },
  {
   "cell_type": "markdown",
   "id": "f6bd3325",
   "metadata": {},
   "source": [
    "## ISTP"
   ]
  },
  {
   "cell_type": "code",
   "execution_count": 38,
   "id": "024af2ea",
   "metadata": {
    "collapsed": true
   },
   "outputs": [
    {
     "name": "stderr",
     "output_type": "stream",
     "text": [
      "Text Preprocessing:   7%|@@@@                                                          | 58/852 [02:10<27:46,  2.10s/it]"
     ]
    },
    {
     "name": "stdout",
     "output_type": "stream",
     "text": [
      "오류!\n"
     ]
    },
    {
     "name": "stderr",
     "output_type": "stream",
     "text": [
      "Text Preprocessing:  25%|@@@@@@@@@@@@@@@                                              | 212/852 [06:57<26:07,  2.45s/it]"
     ]
    },
    {
     "name": "stdout",
     "output_type": "stream",
     "text": [
      "오류!\n"
     ]
    },
    {
     "name": "stderr",
     "output_type": "stream",
     "text": [
      "Text Preprocessing:  28%|@@@@@@@@@@@@@@@@@                                            | 242/852 [07:49<12:20,  1.21s/it]"
     ]
    },
    {
     "name": "stdout",
     "output_type": "stream",
     "text": [
      "오류!\n"
     ]
    },
    {
     "name": "stderr",
     "output_type": "stream",
     "text": [
      "Text Preprocessing:  33%|@@@@@@@@@@@@@@@@@@@@                                         | 282/852 [09:10<23:50,  2.51s/it]"
     ]
    },
    {
     "name": "stdout",
     "output_type": "stream",
     "text": [
      "오류!\n"
     ]
    },
    {
     "name": "stderr",
     "output_type": "stream",
     "text": [
      "Text Preprocessing:  40%|@@@@@@@@@@@@@@@@@@@@@@@@                                     | 339/852 [11:02<30:54,  3.61s/it]"
     ]
    },
    {
     "name": "stdout",
     "output_type": "stream",
     "text": [
      "오류!\n"
     ]
    },
    {
     "name": "stderr",
     "output_type": "stream",
     "text": [
      "Text Preprocessing:  49%|@@@@@@@@@@@@@@@@@@@@@@@@@@@@@                                | 419/852 [13:32<08:44,  1.21s/it]"
     ]
    },
    {
     "name": "stdout",
     "output_type": "stream",
     "text": [
      "오류!\n"
     ]
    },
    {
     "name": "stderr",
     "output_type": "stream",
     "text": [
      "Text Preprocessing:  53%|@@@@@@@@@@@@@@@@@@@@@@@@@@@@@@@@                             | 452/852 [14:46<13:17,  1.99s/it]"
     ]
    },
    {
     "name": "stdout",
     "output_type": "stream",
     "text": [
      "오류!\n"
     ]
    },
    {
     "name": "stderr",
     "output_type": "stream",
     "text": [
      "Text Preprocessing:  60%|@@@@@@@@@@@@@@@@@@@@@@@@@@@@@@@@@@@@                         | 514/852 [16:35<05:51,  1.04s/it]"
     ]
    },
    {
     "name": "stdout",
     "output_type": "stream",
     "text": [
      "오류!\n"
     ]
    },
    {
     "name": "stderr",
     "output_type": "stream",
     "text": [
      "Text Preprocessing:  61%|@@@@@@@@@@@@@@@@@@@@@@@@@@@@@@@@@@@@@                        | 520/852 [16:43<07:16,  1.31s/it]"
     ]
    },
    {
     "name": "stdout",
     "output_type": "stream",
     "text": [
      "오류!\n"
     ]
    },
    {
     "name": "stderr",
     "output_type": "stream",
     "text": [
      "Text Preprocessing:  62%|@@@@@@@@@@@@@@@@@@@@@@@@@@@@@@@@@@@@@                        | 528/852 [17:02<12:33,  2.33s/it]"
     ]
    },
    {
     "name": "stdout",
     "output_type": "stream",
     "text": [
      "오류!\n"
     ]
    },
    {
     "name": "stderr",
     "output_type": "stream",
     "text": [
      "Text Preprocessing:  64%|@@@@@@@@@@@@@@@@@@@@@@@@@@@@@@@@@@@@@@                       | 543/852 [17:33<10:53,  2.11s/it]"
     ]
    },
    {
     "name": "stdout",
     "output_type": "stream",
     "text": [
      "오류!\n"
     ]
    },
    {
     "name": "stderr",
     "output_type": "stream",
     "text": [
      "Text Preprocessing:  83%|@@@@@@@@@@@@@@@@@@@@@@@@@@@@@@@@@@@@@@@@@@@@@@@@@@           | 703/852 [24:32<06:40,  2.69s/it]"
     ]
    },
    {
     "name": "stdout",
     "output_type": "stream",
     "text": [
      "오류!\n"
     ]
    },
    {
     "name": "stderr",
     "output_type": "stream",
     "text": [
      "Text Preprocessing: 100%|@@@@@@@@@@@@@@@@@@@@@@@@@@@@@@@@@@@@@@@@@@@@@@@@@@@@@@@@@@@@@| 852/852 [29:53<00:00,  2.11s/it]\n"
     ]
    }
   ],
   "source": [
    "progress_bar = tqdm(total=len(MBTI['ISTP']['content']),\n",
    "                   desc= 'Text Preprocessing',\n",
    "                   ncols=120, ascii=\" @\")\n",
    "\n",
    "MBTI['ISTP']['pp_content'] = MBTI['ISTP']['content'].apply(preprocess_and_update_progress)\n",
    "\n",
    "progress_bar.close()"
   ]
  },
  {
   "cell_type": "code",
   "execution_count": 39,
   "id": "497e8501",
   "metadata": {},
   "outputs": [],
   "source": [
    "MBTI['ISTP'].to_csv('MBTI_ISTP_after.csv', encoding='utf-8', index=False)"
   ]
  },
  {
   "cell_type": "markdown",
   "id": "e2fd899c",
   "metadata": {},
   "source": [
    "* * *\n",
    "# Text Preprocessing 2\n",
    "데이터 stopword 추가 처리 및 결측치 제거"
   ]
  },
  {
   "cell_type": "code",
   "execution_count": 3,
   "id": "a9dae638",
   "metadata": {},
   "outputs": [],
   "source": [
    "ENFJ = pd.read_csv('MBTI_ENFJ_after.csv', encoding='utf-8')\n",
    "ENFP = pd.read_csv('MBTI_ENFP_after.csv', encoding='utf-8')\n",
    "ENTJ = pd.read_csv('MBTI_ENTJ_after.csv', encoding='utf-8')\n",
    "ENTP = pd.read_csv('MBTI_ENTP_after.csv', encoding='utf-8')\n",
    "ESFJ = pd.read_csv('MBTI_ESFJ_after.csv', encoding='utf-8')\n",
    "ESFP = pd.read_csv('MBTI_ESFP_after.csv', encoding='utf-8')\n",
    "ESTJ = pd.read_csv('MBTI_ESTJ_after.csv', encoding='utf-8')\n",
    "ESTP = pd.read_csv('MBTI_ESTP_after.csv', encoding='utf-8')\n",
    "INFJ = pd.read_csv('MBTI_INFJ_after.csv', encoding='utf-8')\n",
    "INFP = pd.read_csv('MBTI_INFP_after.csv', encoding='utf-8')\n",
    "INTJ = pd.read_csv('MBTI_INTJ_after.csv', encoding='utf-8')\n",
    "INTP = pd.read_csv('MBTI_INTP_after.csv', encoding='utf-8')\n",
    "ISFJ = pd.read_csv('MBTI_ISFJ_after.csv', encoding='utf-8')\n",
    "ISFP = pd.read_csv('MBTI_ISFP_after.csv', encoding='utf-8')\n",
    "ISTJ = pd.read_csv('MBTI_ISTJ_after.csv', encoding='utf-8')\n",
    "ISTP = pd.read_csv('MBTI_ISTP_after.csv', encoding='utf-8')"
   ]
  },
  {
   "cell_type": "code",
   "execution_count": 4,
   "id": "261f22a9",
   "metadata": {},
   "outputs": [],
   "source": [
    "MBTI = {'ENFJ': ENFJ, 'ENFP': ENFP, 'ENTJ': ENFJ, 'ENTP': ENFP, 'ESFJ': ESFJ, 'ESFP': ESFP, 'ESTJ': ESTJ, 'ESTP': ESTP, 'INFJ': INFJ, 'INFP': INFP, 'INTJ': INTJ, 'INTP': INTP, 'ISFJ': ISFJ, 'ISFP': ISFP, 'ISTJ': ISTJ, 'ISTP': ISTP}"
   ]
  },
  {
   "cell_type": "code",
   "execution_count": 5,
   "id": "575ad1d3",
   "metadata": {
    "collapsed": true
   },
   "outputs": [
    {
     "ename": "ValueError",
     "evalue": "cannot insert level_0, already exists",
     "output_type": "error",
     "traceback": [
      "\u001b[1;31m---------------------------------------------------------------------------\u001b[0m",
      "\u001b[1;31mValueError\u001b[0m                                Traceback (most recent call last)",
      "Cell \u001b[1;32mIn[5], line 3\u001b[0m\n\u001b[0;32m      1\u001b[0m \u001b[38;5;28;01mfor\u001b[39;00m m \u001b[38;5;129;01min\u001b[39;00m MBTI:\n\u001b[0;32m      2\u001b[0m     MBTI\u001b[38;5;241m.\u001b[39mget(m)\u001b[38;5;241m.\u001b[39mdropna(inplace\u001b[38;5;241m=\u001b[39m\u001b[38;5;28;01mTrue\u001b[39;00m)\n\u001b[1;32m----> 3\u001b[0m     \u001b[43mMBTI\u001b[49m\u001b[38;5;241;43m.\u001b[39;49m\u001b[43mget\u001b[49m\u001b[43m(\u001b[49m\u001b[43mm\u001b[49m\u001b[43m)\u001b[49m\u001b[38;5;241;43m.\u001b[39;49m\u001b[43mreset_index\u001b[49m\u001b[43m(\u001b[49m\u001b[43minplace\u001b[49m\u001b[38;5;241;43m=\u001b[39;49m\u001b[38;5;28;43;01mTrue\u001b[39;49;00m\u001b[43m)\u001b[49m\n\u001b[0;32m      4\u001b[0m     \u001b[38;5;28mprint\u001b[39m(\u001b[38;5;124m\"\u001b[39m\u001b[38;5;132;01m{}\u001b[39;00m\u001b[38;5;124m 결측치 행 제거 완료\u001b[39m\u001b[38;5;124m\"\u001b[39m\u001b[38;5;241m.\u001b[39mformat(m))\n",
      "File \u001b[1;32m~\\anaconda3\\envs\\text\\lib\\site-packages\\pandas\\util\\_decorators.py:331\u001b[0m, in \u001b[0;36mdeprecate_nonkeyword_arguments.<locals>.decorate.<locals>.wrapper\u001b[1;34m(*args, **kwargs)\u001b[0m\n\u001b[0;32m    325\u001b[0m \u001b[38;5;28;01mif\u001b[39;00m \u001b[38;5;28mlen\u001b[39m(args) \u001b[38;5;241m>\u001b[39m num_allow_args:\n\u001b[0;32m    326\u001b[0m     warnings\u001b[38;5;241m.\u001b[39mwarn(\n\u001b[0;32m    327\u001b[0m         msg\u001b[38;5;241m.\u001b[39mformat(arguments\u001b[38;5;241m=\u001b[39m_format_argument_list(allow_args)),\n\u001b[0;32m    328\u001b[0m         \u001b[38;5;167;01mFutureWarning\u001b[39;00m,\n\u001b[0;32m    329\u001b[0m         stacklevel\u001b[38;5;241m=\u001b[39mfind_stack_level(),\n\u001b[0;32m    330\u001b[0m     )\n\u001b[1;32m--> 331\u001b[0m \u001b[38;5;28;01mreturn\u001b[39;00m \u001b[43mfunc\u001b[49m\u001b[43m(\u001b[49m\u001b[38;5;241;43m*\u001b[39;49m\u001b[43margs\u001b[49m\u001b[43m,\u001b[49m\u001b[43m \u001b[49m\u001b[38;5;241;43m*\u001b[39;49m\u001b[38;5;241;43m*\u001b[39;49m\u001b[43mkwargs\u001b[49m\u001b[43m)\u001b[49m\n",
      "File \u001b[1;32m~\\anaconda3\\envs\\text\\lib\\site-packages\\pandas\\core\\frame.py:6361\u001b[0m, in \u001b[0;36mDataFrame.reset_index\u001b[1;34m(self, level, drop, inplace, col_level, col_fill, allow_duplicates, names)\u001b[0m\n\u001b[0;32m   6355\u001b[0m         \u001b[38;5;28;01mif\u001b[39;00m lab \u001b[38;5;129;01mis\u001b[39;00m \u001b[38;5;129;01mnot\u001b[39;00m \u001b[38;5;28;01mNone\u001b[39;00m:\n\u001b[0;32m   6356\u001b[0m             \u001b[38;5;66;03m# if we have the codes, extract the values with a mask\u001b[39;00m\n\u001b[0;32m   6357\u001b[0m             level_values \u001b[38;5;241m=\u001b[39m algorithms\u001b[38;5;241m.\u001b[39mtake(\n\u001b[0;32m   6358\u001b[0m                 level_values, lab, allow_fill\u001b[38;5;241m=\u001b[39m\u001b[38;5;28;01mTrue\u001b[39;00m, fill_value\u001b[38;5;241m=\u001b[39mlev\u001b[38;5;241m.\u001b[39m_na_value\n\u001b[0;32m   6359\u001b[0m             )\n\u001b[1;32m-> 6361\u001b[0m         \u001b[43mnew_obj\u001b[49m\u001b[38;5;241;43m.\u001b[39;49m\u001b[43minsert\u001b[49m\u001b[43m(\u001b[49m\n\u001b[0;32m   6362\u001b[0m \u001b[43m            \u001b[49m\u001b[38;5;241;43m0\u001b[39;49m\u001b[43m,\u001b[49m\n\u001b[0;32m   6363\u001b[0m \u001b[43m            \u001b[49m\u001b[43mname\u001b[49m\u001b[43m,\u001b[49m\n\u001b[0;32m   6364\u001b[0m \u001b[43m            \u001b[49m\u001b[43mlevel_values\u001b[49m\u001b[43m,\u001b[49m\n\u001b[0;32m   6365\u001b[0m \u001b[43m            \u001b[49m\u001b[43mallow_duplicates\u001b[49m\u001b[38;5;241;43m=\u001b[39;49m\u001b[43mallow_duplicates\u001b[49m\u001b[43m,\u001b[49m\n\u001b[0;32m   6366\u001b[0m \u001b[43m        \u001b[49m\u001b[43m)\u001b[49m\n\u001b[0;32m   6368\u001b[0m new_obj\u001b[38;5;241m.\u001b[39mindex \u001b[38;5;241m=\u001b[39m new_index\n\u001b[0;32m   6369\u001b[0m \u001b[38;5;28;01mif\u001b[39;00m \u001b[38;5;129;01mnot\u001b[39;00m inplace:\n",
      "File \u001b[1;32m~\\anaconda3\\envs\\text\\lib\\site-packages\\pandas\\core\\frame.py:4817\u001b[0m, in \u001b[0;36mDataFrame.insert\u001b[1;34m(self, loc, column, value, allow_duplicates)\u001b[0m\n\u001b[0;32m   4811\u001b[0m     \u001b[38;5;28;01mraise\u001b[39;00m \u001b[38;5;167;01mValueError\u001b[39;00m(\n\u001b[0;32m   4812\u001b[0m         \u001b[38;5;124m\"\u001b[39m\u001b[38;5;124mCannot specify \u001b[39m\u001b[38;5;124m'\u001b[39m\u001b[38;5;124mallow_duplicates=True\u001b[39m\u001b[38;5;124m'\u001b[39m\u001b[38;5;124m when \u001b[39m\u001b[38;5;124m\"\u001b[39m\n\u001b[0;32m   4813\u001b[0m         \u001b[38;5;124m\"\u001b[39m\u001b[38;5;124m'\u001b[39m\u001b[38;5;124mself.flags.allows_duplicate_labels\u001b[39m\u001b[38;5;124m'\u001b[39m\u001b[38;5;124m is False.\u001b[39m\u001b[38;5;124m\"\u001b[39m\n\u001b[0;32m   4814\u001b[0m     )\n\u001b[0;32m   4815\u001b[0m \u001b[38;5;28;01mif\u001b[39;00m \u001b[38;5;129;01mnot\u001b[39;00m allow_duplicates \u001b[38;5;129;01mand\u001b[39;00m column \u001b[38;5;129;01min\u001b[39;00m \u001b[38;5;28mself\u001b[39m\u001b[38;5;241m.\u001b[39mcolumns:\n\u001b[0;32m   4816\u001b[0m     \u001b[38;5;66;03m# Should this be a different kind of error??\u001b[39;00m\n\u001b[1;32m-> 4817\u001b[0m     \u001b[38;5;28;01mraise\u001b[39;00m \u001b[38;5;167;01mValueError\u001b[39;00m(\u001b[38;5;124mf\u001b[39m\u001b[38;5;124m\"\u001b[39m\u001b[38;5;124mcannot insert \u001b[39m\u001b[38;5;132;01m{\u001b[39;00mcolumn\u001b[38;5;132;01m}\u001b[39;00m\u001b[38;5;124m, already exists\u001b[39m\u001b[38;5;124m\"\u001b[39m)\n\u001b[0;32m   4818\u001b[0m \u001b[38;5;28;01mif\u001b[39;00m \u001b[38;5;129;01mnot\u001b[39;00m \u001b[38;5;28misinstance\u001b[39m(loc, \u001b[38;5;28mint\u001b[39m):\n\u001b[0;32m   4819\u001b[0m     \u001b[38;5;28;01mraise\u001b[39;00m \u001b[38;5;167;01mTypeError\u001b[39;00m(\u001b[38;5;124m\"\u001b[39m\u001b[38;5;124mloc must be int\u001b[39m\u001b[38;5;124m\"\u001b[39m)\n",
      "\u001b[1;31mValueError\u001b[0m: cannot insert level_0, already exists"
     ]
    }
   ],
   "source": [
    "for m in MBTI: # 결측치 제거 및 인덱스 초기화\n",
    "    MBTI.get(m).dropna(inplace=True)\n",
    "    MBTI.get(m).reset_index(inplace=True) # 아래의 오류는 이미 reset_index가 완료된 상태라서 나는 오류입니다!\n",
    "    print(\"{} 결측치 행 제거 완료\".format(m))"
   ]
  },
  {
   "cell_type": "code",
   "execution_count": 6,
   "id": "fa043f02",
   "metadata": {},
   "outputs": [],
   "source": [
    "with open('./mbti_stop.txt', 'r', encoding='utf-8') as f:\n",
    "    stopwords2 = f.readlines()\n",
    "stopwords2 = [x.replace('\\n','') for x in stopwords2]"
   ]
  },
  {
   "cell_type": "code",
   "execution_count": 7,
   "id": "5a80fb30",
   "metadata": {},
   "outputs": [],
   "source": [
    "def goodbye_stopword(text):\n",
    "    tokens = text.split() # 어차피 이미 토큰화된 상태이므로 그냥 띄어쓰기 단위로 자르기\n",
    "\n",
    "    result = [token for token in tokens if token not in stopwords2]\n",
    "    result = ' '.join(result)\n",
    "    \n",
    "    return result"
   ]
  },
  {
   "cell_type": "code",
   "execution_count": 8,
   "id": "ce98af78",
   "metadata": {
    "collapsed": true
   },
   "outputs": [
    {
     "name": "stdout",
     "output_type": "stream",
     "text": [
      "ENFJ 완료!\n",
      "ENFP 완료!\n",
      "ENTJ 완료!\n",
      "ENTP 완료!\n",
      "ESFJ 완료!\n",
      "ESFP 완료!\n",
      "ESTJ 완료!\n",
      "ESTP 완료!\n",
      "INFJ 완료!\n",
      "INFP 완료!\n",
      "INTJ 완료!\n",
      "INTP 완료!\n",
      "ISFJ 완료!\n",
      "ISFP 완료!\n",
      "ISTJ 완료!\n",
      "ISTP 완료!\n"
     ]
    }
   ],
   "source": [
    "for m in MBTI:\n",
    "    MBTI.get(m)['pp_content'] = MBTI.get(m)['pp_content'].apply(goodbye_stopword)\n",
    "    MBTI.get(m).to_csv('MBTI_{}_after.csv'.format(m), encoding='utf-8', index=False)\n",
    "    print(\"{} 완료!\".format(m))"
   ]
  },
  {
   "cell_type": "code",
   "execution_count": null,
   "id": "df4fe41b",
   "metadata": {},
   "outputs": [],
   "source": []
  }
 ],
 "metadata": {
  "kernelspec": {
   "display_name": "Python 3 (ipykernel)",
   "language": "python",
   "name": "python3"
  },
  "language_info": {
   "codemirror_mode": {
    "name": "ipython",
    "version": 3
   },
   "file_extension": ".py",
   "mimetype": "text/x-python",
   "name": "python",
   "nbconvert_exporter": "python",
   "pygments_lexer": "ipython3",
   "version": "3.8.16"
  }
 },
 "nbformat": 4,
 "nbformat_minor": 5
}
